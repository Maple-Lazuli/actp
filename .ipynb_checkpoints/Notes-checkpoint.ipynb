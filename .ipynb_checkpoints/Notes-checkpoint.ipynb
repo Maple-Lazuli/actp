{
 "cells": [
  {
   "cell_type": "markdown",
   "id": "b43278b9-6d98-4dd9-a738-69f3aade39b8",
   "metadata": {},
   "source": [
    "```\n",
    " ________   ________  _________  _______   ________      \n",
    "|\\   ___  \\|\\   __  \\|\\___   ___\\\\  ___ \\ |\\   ____\\     \n",
    "\\ \\  \\\\ \\  \\ \\  \\|\\  \\|___ \\  \\_\\ \\   __/|\\ \\  \\___|_    \n",
    " \\ \\  \\\\ \\  \\ \\  \\\\\\  \\   \\ \\  \\ \\ \\  \\_|/_\\ \\_____  \\   \n",
    "  \\ \\  \\\\ \\  \\ \\  \\\\\\  \\   \\ \\  \\ \\ \\  \\_|\\ \\|____|\\  \\  \n",
    "   \\ \\__\\\\ \\__\\ \\_______\\   \\ \\__\\ \\ \\_______\\____\\_\\  \\ \n",
    "    \\|__| \\|__|\\|_______|    \\|__|  \\|_______|\\_________\\\n",
    "                                             \\|_________|\n",
    "                                                         \n",
    "                                                         \n",
    " ________ ________  ________          ________  ________ _________  ________   \n",
    "|\\  _____\\\\   __  \\|\\   __  \\        |\\   __  \\|\\   ____\\\\___   ___\\\\   __  \\  \n",
    "\\ \\  \\__/\\ \\  \\|\\  \\ \\  \\|\\  \\       \\ \\  \\|\\  \\ \\  \\___\\|___ \\  \\_\\ \\  \\|\\  \\ \n",
    " \\ \\   __\\\\ \\  \\\\\\  \\ \\   _  _\\       \\ \\   __  \\ \\  \\       \\ \\  \\ \\ \\   ____\\\n",
    "  \\ \\  \\_| \\ \\  \\\\\\  \\ \\  \\\\  \\|       \\ \\  \\ \\  \\ \\  \\____   \\ \\  \\ \\ \\  \\___|\n",
    "   \\ \\__\\   \\ \\_______\\ \\__\\\\ _\\        \\ \\__\\ \\__\\ \\_______\\  \\ \\__\\ \\ \\__\\   \n",
    "    \\|__|    \\|_______|\\|__|\\|__|        \\|__|\\|__|\\|_______|   \\|__|  \\|__|   \n",
    "                                                                               \n",
    "             \n",
    "```"
   ]
  },
  {
   "cell_type": "markdown",
   "id": "40800f4f-f70a-468a-af58-9026e90c7d16",
   "metadata": {},
   "source": [
    "you can use `dir()` on imports"
   ]
  },
  {
   "cell_type": "markdown",
   "id": "48e6dfe7-d98d-4125-bd86-0bfb1e88afb3",
   "metadata": {},
   "source": [
    "## Python"
   ]
  },
  {
   "cell_type": "markdown",
   "id": "4607ffda-93ab-4052-ada6-fca740d70c53",
   "metadata": {},
   "source": [
    "## Types\n",
    "\n",
    "### Numeric\n",
    "\n",
    "The numeric types are int, float, and complex. Note that booleans are a subclass of int."
   ]
  },
  {
   "cell_type": "markdown",
   "id": "76832adc-fdbd-4099-bb19-7ddbe65f8647",
   "metadata": {},
   "source": [
    "### Mutability\n",
    "\n",
    "lists, bytearray, and dictionary are the types that are mutable.\n",
    "\n",
    "bytes, range, str, tuple are immutable.\n",
    "\n",
    "strings in python reuse letters. So like, \"Hello\" would use the same object for both 'l's"
   ]
  },
  {
   "cell_type": "markdown",
   "id": "2236d989-f4ea-4fb6-9645-4032d08e3e64",
   "metadata": {},
   "source": [
    "### Byte Arrays"
   ]
  },
  {
   "cell_type": "code",
   "execution_count": 1,
   "id": "022fde06-4985-4266-ab13-ac865fa435f6",
   "metadata": {},
   "outputs": [],
   "source": [
    "my_byte_arr = bytearray(b'This Is a Test')"
   ]
  },
  {
   "cell_type": "code",
   "execution_count": 2,
   "id": "de442655-3527-4f2d-b21c-58d1d410efb0",
   "metadata": {},
   "outputs": [
    {
     "data": {
      "text/plain": [
       "5"
      ]
     },
     "execution_count": 2,
     "metadata": {},
     "output_type": "execute_result"
    }
   ],
   "source": [
    "my_byte_arr.index(b'I')"
   ]
  },
  {
   "cell_type": "markdown",
   "id": "b740bf21-cfde-4f7e-91f4-44797617be8a",
   "metadata": {},
   "source": [
    "## Statements"
   ]
  },
  {
   "cell_type": "markdown",
   "id": "22571a94-8e54-4df8-8bb1-98765f97ce0f",
   "metadata": {},
   "source": [
    "Different assignment errors occur based on which side of the assignment operator:\n",
    "1. __left__: Type Error\n",
    "2. __right__: Value Error\n"
   ]
  },
  {
   "cell_type": "code",
   "execution_count": 3,
   "id": "43e08a78-695e-4866-8eb4-4a1b3dd9db78",
   "metadata": {},
   "outputs": [],
   "source": [
    "test = \"o\" \"n\" \"e\" # performs string concatentation...."
   ]
  },
  {
   "cell_type": "markdown",
   "id": "29b7b6a5-5c06-4cd1-80cb-f400f6c72838",
   "metadata": {},
   "source": [
    "## Functions\n",
    "\n",
    "Scopes are function scope by default."
   ]
  },
  {
   "cell_type": "markdown",
   "id": "a8c40a53-e629-4960-a3eb-6aeff769cd77",
   "metadata": {},
   "source": [
    "``` python\n",
    "def pos(a,b, *args):\n",
    "    return args + (a,b)\n",
    "```\n",
    "Note that *args is a type __tuple__\n",
    "\n",
    "The double star is named key words that produces a dictionary.\n",
    "\n",
    "```python\n",
    "def kw(a, b, **kwargs):\n",
    "    if kwargs.get('add_ab'):\n",
    "        kwargs.update(a=a, b=b)\n",
    "return kwargs\n",
    "```"
   ]
  },
  {
   "cell_type": "code",
   "execution_count": 4,
   "id": "c49fd1ee-5b5d-413f-a860-2a6d0aa105d0",
   "metadata": {},
   "outputs": [],
   "source": [
    "def kw(a, b, **kwargs): #splat * 2\n",
    "    if kwargs.get('add_ab'):\n",
    "        kwargs.update(a=a, b=b)\n",
    "    return kwargs"
   ]
  },
  {
   "cell_type": "code",
   "execution_count": 5,
   "id": "a66618f1-8ece-470b-8b04-4920609c8058",
   "metadata": {},
   "outputs": [
    {
     "data": {
      "text/plain": [
       "{}"
      ]
     },
     "execution_count": 5,
     "metadata": {},
     "output_type": "execute_result"
    }
   ],
   "source": [
    "kw(1, 2)"
   ]
  },
  {
   "cell_type": "code",
   "execution_count": 6,
   "id": "85ce86ec-326d-40f3-83e6-b2e3c5255949",
   "metadata": {},
   "outputs": [
    {
     "data": {
      "text/plain": [
       "{'add_ab': True, 'a': 1, 'b': 2}"
      ]
     },
     "execution_count": 6,
     "metadata": {},
     "output_type": "execute_result"
    }
   ],
   "source": [
    "kw(1, 2, add_ab=True)"
   ]
  },
  {
   "cell_type": "code",
   "execution_count": 7,
   "id": "fcd13c76-c17c-4704-b286-b1b40ec91e36",
   "metadata": {},
   "outputs": [
    {
     "data": {
      "text/plain": [
       "{'add_ab': True, 'anotherthing': 'blah', 'a': 'aaaa', 'b': 'bbbb'}"
      ]
     },
     "execution_count": 7,
     "metadata": {},
     "output_type": "execute_result"
    }
   ],
   "source": [
    "kw(**dict(add_ab=True, b='bbbb', a='aaaa', anotherthing='blah')) "
   ]
  },
  {
   "cell_type": "markdown",
   "id": "2d5d30ae-5cf8-40e2-a863-cbc379722f7e",
   "metadata": {},
   "source": [
    "Summary: `*args` is positional. `**kwargs` is key word based. The internal types are __tuple__ and __dictionary__"
   ]
  },
  {
   "cell_type": "markdown",
   "id": "731f177d-49de-4d7b-adfd-ddf91444e470",
   "metadata": {},
   "source": [
    "## Generators\n",
    "\n",
    "Generators preserver the state. Example:"
   ]
  },
  {
   "cell_type": "code",
   "execution_count": 8,
   "id": "ad85c3b2-41d2-4c42-a19a-b6f9ad9bfa1d",
   "metadata": {},
   "outputs": [],
   "source": [
    "def fib(top):\n",
    "    a = 0\n",
    "    b = 1\n",
    "    while a <= top:\n",
    "        yield a\n",
    "        tmp= a + b\n",
    "        a = b\n",
    "        b = tmp"
   ]
  },
  {
   "cell_type": "code",
   "execution_count": 9,
   "id": "e862202c-5bf1-4f4e-a143-e341c49baef5",
   "metadata": {},
   "outputs": [],
   "source": [
    "dir(list);"
   ]
  },
  {
   "cell_type": "markdown",
   "id": "61e43c5a-8e18-4d35-8df2-e53916edff1d",
   "metadata": {},
   "source": [
    "`yield from` is used to work with yielded returns from a generator."
   ]
  },
  {
   "cell_type": "code",
   "execution_count": 10,
   "id": "c637dbbb-e7eb-42d0-80d0-8bb3708aef77",
   "metadata": {},
   "outputs": [
    {
     "data": {
      "text/plain": [
       "False"
      ]
     },
     "execution_count": 10,
     "metadata": {},
     "output_type": "execute_result"
    }
   ],
   "source": [
    "object is str"
   ]
  },
  {
   "cell_type": "code",
   "execution_count": 11,
   "id": "89009ed2-494a-4791-8ab5-bba283759882",
   "metadata": {},
   "outputs": [
    {
     "data": {
      "text/plain": [
       "True"
      ]
     },
     "execution_count": 11,
     "metadata": {},
     "output_type": "execute_result"
    }
   ],
   "source": [
    "issubclass(BaseException,object)"
   ]
  },
  {
   "cell_type": "markdown",
   "id": "884edf12-3c7e-4b9c-9262-1c178142c86d",
   "metadata": {},
   "source": [
    "# Networks"
   ]
  },
  {
   "cell_type": "markdown",
   "id": "eef30899-c290-441c-9d6b-9e387cfe7e7f",
   "metadata": {},
   "source": [
    "Windows does not play well with SOCK_RAW. Scapy is used to get around that."
   ]
  },
  {
   "attachments": {},
   "cell_type": "markdown",
   "id": "e17a27c2-03eb-4f64-96aa-4ef036e66eee",
   "metadata": {},
   "source": [
    "network byte order is big endian.\n",
    "\n",
    "Windows commands\n",
    "```\n",
    "ipconfig /all\n",
    "route print\n",
    "netsh int [ipv4|ipv6] show neigh \n",
    "arp\n",
    "```\n",
    "\n",
    "Slide 15 has the RFCs that are import bolded.\n",
    "\n",
    "Use byte strings in Python.\n",
    "\n",
    "Loopback on wireshark because it won't be seen on ethernet.\n",
    "\n",
    "dropped packets do not show in wireshark.\n",
    "\n",
    "For TCP/IP models stuff, only ethernet adds something to the end. The ethernet trailer contains a CRC. The CRC will not show up in wireshark.\n",
    "\n",
    "## Ethernet parts:\n",
    "```\n",
    "Source Address\n",
    "Destination Address\n",
    "Next Type\n",
    ".\n",
    ".\n",
    ".\n",
    "CRC\n",
    "```\n",
    "Ethernet bits are used to determine:\n",
    "1. Whether unicast or multicast\n",
    "2. Whether globally unique or locally administered\n",
    "\n",
    "Hubs have a single collision domain, single broadcast domain\n",
    "\n",
    "Switches have multiple collision domains, single broadcast domain.\n",
    "\n",
    "ARP maps IP to mac.\n",
    "\n",
    "ARP posioning needs to be done over and over again. Easy to catch. 0800 is IP. 0806 is ARP. 06DD is IPv6. This is for the ethernet header.\n",
    "hardware type is usally 1 for ethernet for ARP.\n",
    "\n"
   ]
  },
  {
   "cell_type": "markdown",
   "id": "c0129723-d47f-4d7e-bc88-5351fbe88d38",
   "metadata": {},
   "source": [
    "## Useful wireshark filters\n",
    "\n",
    "For the ip address, there are the following parts:\n",
    "1. `.host` - for all traffic involving the IP\n",
    "2. `.src` - for all traffic where the ip address is the src in the IP packet\n",
    "3. `.dst` - for all traffic where the ip address is the dst of the IP packet\n",
    "\n",
    "Ex: `ip.host == 192.168.1.17`\n",
    "\n",
    "`eth.addr` is used for ethernet. \n",
    "\n",
    "`tcp.port`"
   ]
  },
  {
   "cell_type": "markdown",
   "id": "b069f87b-2564-4aea-8337-90c650de78b3",
   "metadata": {},
   "source": [
    "### Lab 1 Notes\n",
    "\n",
    "icmp != icmpv6. They'll need to be filtered seperately in wireshark.\n",
    "\n",
    "The different ways to ping are `ping -n 1 <ipv4>` and  `ping -6 -n l <ipv6>` The ipv6 loob back address is ::1:"
   ]
  },
  {
   "cell_type": "markdown",
   "id": "7ebca8c2-9d7f-4f2d-ab1e-b54fd9d52610",
   "metadata": {},
   "source": [
    "When using ARP poisoning, the destination/target is the one that will be \"confused\" with the response requests. It is critial to use the IP address and not the mac address. "
   ]
  },
  {
   "cell_type": "markdown",
   "id": "42dc25d1-926f-4e66-a706-3c803aab8fda",
   "metadata": {},
   "source": [
    "IPv6 header 8200\n",
    "\n",
    "ICMP header 4861; has a lot of useful validation stuff. IP hop is 255.\n",
    "\n",
    "ff02::1 would be all nodes on link local scope. \n",
    "\n",
    "For router advertisements, use source with the type of 1. Link 1, source mac."
   ]
  },
  {
   "cell_type": "code",
   "execution_count": null,
   "id": "789fbcd0-12a2-473f-a6ba-8e0f2db1952a",
   "metadata": {},
   "outputs": [],
   "source": []
  }
 ],
 "metadata": {
  "kernelspec": {
   "display_name": "Python 3 (ipykernel)",
   "language": "python",
   "name": "python3"
  },
  "language_info": {
   "codemirror_mode": {
    "name": "ipython",
    "version": 3
   },
   "file_extension": ".py",
   "mimetype": "text/x-python",
   "name": "python",
   "nbconvert_exporter": "python",
   "pygments_lexer": "ipython3",
   "version": "3.12.2"
  }
 },
 "nbformat": 4,
 "nbformat_minor": 5
}
