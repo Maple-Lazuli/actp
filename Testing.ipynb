{
 "cells": [
  {
   "cell_type": "code",
   "execution_count": 1,
   "id": "9ac94047-35e5-43a1-b5db-bb20011fdf52",
   "metadata": {},
   "outputs": [],
   "source": [
    "import struct"
   ]
  },
  {
   "cell_type": "code",
   "execution_count": 2,
   "id": "7bf450b8-ee85-4bb5-8ed9-e6e10075a6b0",
   "metadata": {},
   "outputs": [
    {
     "name": "stdout",
     "output_type": "stream",
     "text": [
      "\n",
      "  List of available devices to send/recieve from:\n",
      "  Use the name from the 'Name' column as your dev argument to the raw_send family of functions\n",
      "  You can also find this information from 'ipconfig /all' under the Description column.\n",
      "\n",
      "Source   Index  Name                                      MAC                IPv4           IPv6                       \n",
      "libpcap  1      Software Loopback Interface 1             00:00:00:00:00:00  127.0.0.1      ::1                        \n",
      "libpcap  13     WAN Miniport (IP)                                                                                      \n",
      "libpcap  14     vmxnet3 Ethernet Adapter                  VMware:01:4e:df    172.16.91.10   a:c:7:9:d419:bd42:16fb:a917\n",
      "                                                                                            fe80::d419:bd42:16fb:a917  \n",
      "                                                                                            a:c:7:9:2923:d157:2193:40b0\n",
      "libpcap  19     WAN Miniport (Network Monitor)                                                                         \n",
      "libpcap  20     VirtualBox Host-Only Ethernet Adapter     0a:00:27:00:00:14  192.168.56.1   fe80::702a:1772:334b:a8f8  \n",
      "libpcap  21     VMware Virtual Ethernet Adapter for VMn_  VMware:c0:00:01    192.168.152.1  fe80::7daa:ca7d:27d4:a6ed  \n",
      "libpcap  22     VMware Virtual Ethernet Adapter for VMn_  VMware:c0:00:08    192.168.15.1   fe80::6d06:da9f:ce5c:b8c2  \n",
      "libpcap  24     WAN Miniport (IPv6)                                                                                    \n"
     ]
    }
   ],
   "source": [
    "import cno_net_helper as cno"
   ]
  },
  {
   "cell_type": "code",
   "execution_count": null,
   "id": "9a9d2006-635a-42e4-bd02-674da318bac9",
   "metadata": {},
   "outputs": [],
   "source": []
  },
  {
   "cell_type": "code",
   "execution_count": 3,
   "id": "9bb2ad09-8bf0-448d-8d5a-6236055e6c6f",
   "metadata": {},
   "outputs": [],
   "source": [
    "def ipv6_to_bytes(adder):\n",
    "    parts = adder.split(\":\")\n",
    "    return struct.pack(\">8H\", *[int(p,16) for p in parts])"
   ]
  },
  {
   "cell_type": "code",
   "execution_count": 4,
   "id": "c4ec0f96-909b-405d-ba42-b462c7f3aa6d",
   "metadata": {},
   "outputs": [],
   "source": [
    "def addr_to_bytes(addr, base = 16, sep=\":\"):\n",
    "    addr = addr.lower()\n",
    "    parts = addr.split(sep)\n",
    "    return struct.pack(f\">{len(parts)}B\", *(int(p,base) for p in parts))\n",
    "\n",
    "class EthernetHeader:\n",
    "    def __init__(self, dst_mac: str, src_mac: str, type_code: bytes):\n",
    "        self.dst_mac = addr_to_bytes(dst_mac)\n",
    "        self.src_mac = addr_to_bytes(src_mac)\n",
    "        self.type_code = type_code\n",
    "\n",
    "    def get_header(self):\n",
    "        return self.dst_mac + self.src_mac + self.type_code"
   ]
  },
  {
   "cell_type": "code",
   "execution_count": 17,
   "id": "df44bb52-943c-4306-ba4d-7699163948a1",
   "metadata": {},
   "outputs": [],
   "source": [
    "class IPv6Header:\n",
    "    def __init__(self):\n",
    "        self.version_class_flow = b\"\\x60\\x00\\x00\\x00\"\n",
    "    def set_payload_len(self, size):\n",
    "        self.payload_len = struct.pack(\">H\",size)\n",
    "    def set_next_header(self, next_header:bytes):\n",
    "        self.next_header = next_header\n",
    "    def set_hop_limit(self, hop_limit: int):\n",
    "        self.hop_limit = struct.pack(\">B\", hop_limit)\n",
    "    def set_src_ip(self, address: bytes):\n",
    "        self.src_address = address\n",
    "    def set_dst_ip(self, address:bytes):\n",
    "        self.dst_address = address\n",
    "    def get_header(self):\n",
    "        return self.version_class_flow + self.payload_len + self.next_header + self.hop_limit + self.src_address + self.dst_address"
   ]
  },
  {
   "cell_type": "code",
   "execution_count": 103,
   "id": "98802d95-98f5-44e8-98eb-5fc2e09d2028",
   "metadata": {},
   "outputs": [],
   "source": [
    "# DIY Neighbor Solicit\n",
    "class ICMPv6:\n",
    "    def __init__(self):\n",
    "        self.reserved = b\"\\x00\" * 4\n",
    "    def set_type(self,type_code):\n",
    "        self.type = type_code\n",
    "    def set_code(self,code):\n",
    "        self.code = code\n",
    "    def set_checksum(self, checksum):\n",
    "        self.checksum = checksum\n",
    "    def set_target_ip(self, address):\n",
    "        self.target = address\n",
    "    def set_options(self, options):\n",
    "        self.options = options\n",
    "    def set_reserved(self, reserved):\n",
    "        self.reserved = reserved\n",
    "    def get_header(self):\n",
    "        return self.type + self.code + self.reserved + self.checksum + self.target + self.options\n",
    "\n",
    "class ICMPOptions: # Source link layer address\n",
    "    def set_type(self, type_code):\n",
    "        self.type = type_code\n",
    "    def set_src_length(self, length):\n",
    "        self.src_length = struct.pack(\">B\", length)\n",
    "    def set_src_address(self, address):\n",
    "        self.src_address = address\n",
    "    def set_dst_length(self, length):\n",
    "        self.dst_length = struct.pack(\">B\", length)\n",
    "    def set_dst_address(self, address):\n",
    "        self.dst_address = address\n",
    "    def get_header(self):\n",
    "        return self.type + self.src_length + self.src_address"
   ]
  },
  {
   "cell_type": "markdown",
   "id": "6fecae07-a96b-49b8-951e-3093ac14ca7a",
   "metadata": {},
   "source": [
    "# Making a Solicit Packet"
   ]
  },
  {
   "cell_type": "code",
   "execution_count": 104,
   "id": "b9b91e69-e955-473b-95ec-21f4e2861490",
   "metadata": {},
   "outputs": [],
   "source": [
    "ipv6_etherheader = EthernetHeader(\"33:33:00:00:00:01\", \"00:50:56:01:4e:df\", b\"\\x86\\xdd\")\n",
    "src_address = ipv6_to_bytes(\"a:c:7:9:d419:bd42:16fb:a917\")\n",
    "\n",
    "dst_address = ipv6_to_bytes(\"a:c:7:9:5107:2e3:22a9:3cfd\")\n",
    "\n",
    "icmp_options = ICMPOptions()\n",
    "icmp_options.set_type(b\"\\x01\")\n",
    "icmp_options.set_src_length(1)\n",
    "icmp_options.set_src_address(addr_to_bytes(\"00:50:56:01:4e:df\"))\n",
    "icmp_options.set_dst_length(1)\n",
    "icmp_options.set_dst_address(b\"\\x00\" * 6)\n",
    "\n",
    "icmpv6_header = ICMPv6()\n",
    "icmpv6_header.set_type(b\"\\x87\")\n",
    "icmpv6_header.set_code(b\"\\x00\")\n",
    "icmpv6_header.set_checksum(b\"\\x00\\x00\")\n",
    "icmpv6_header.set_target_ip(dst_address)\n",
    "icmpv6_header.set_options(icmp_options.get_header())\n",
    "\n",
    "ipv6 = IPv6Header()\n",
    "ipv6.set_payload_len(len(icmpv6_header.get_header()))\n",
    "ipv6.set_next_header(b\"\\x3a\")\n",
    "ipv6.set_hop_limit(20)\n",
    "ipv6.set_src_ip(src_address)\n",
    "ipv6.set_dst_ip(dst_address)\n",
    "\n",
    "packet_solicit = ipv6_etherheader.get_header() + ipv6.get_header() + icmpv6_header.get_header()"
   ]
  },
  {
   "cell_type": "markdown",
   "id": "38331163-9e5c-4b43-b6e6-0a3dbc730b76",
   "metadata": {},
   "source": [
    "# Making an Advertisement Packet"
   ]
  },
  {
   "cell_type": "code",
   "execution_count": 105,
   "id": "4607977c-ea0c-41a5-9e5d-11fc2989f29b",
   "metadata": {},
   "outputs": [],
   "source": [
    "ipv6_etherheader = EthernetHeader(\"33:33:00:00:00:01\", \"00:50:56:01:4e:df\", b\"\\x86\\xdd\")\n",
    "src_address = ipv6_to_bytes(\"a:c:7:9:d419:bd42:16fb:a917\")\n",
    "\n",
    "dst_address = ipv6_to_bytes(\"a:c:7:9:5107:2e3:22a9:3cfd\")\n",
    "\n",
    "icmp_options = ICMPOptions()\n",
    "icmp_options.set_type(b\"\\x01\")\n",
    "icmp_options.set_src_length(1)\n",
    "icmp_options.set_src_address(addr_to_bytes(\"00:50:56:01:4e:df\"))\n",
    "\n",
    "icmpv6_header = ICMPv6()\n",
    "icmpv6_header.set_type(b\"\\x88\")\n",
    "icmpv6_header.set_code(b\"\\x00\")\n",
    "icmpv6_header.set_reserved(b\"\\x00\" + b\"\\x00\"*3) # setting the flag to 0100 seems to bust the checksum\n",
    "icmpv6_header.set_checksum(b\"\\x00\\x00\")\n",
    "icmpv6_header.set_target_ip(src_address) # Changes to the src address\n",
    "icmpv6_header.set_options(icmp_options.get_header())\n",
    "\n",
    "ipv6 = IPv6Header()\n",
    "ipv6.set_payload_len(len(icmpv6_header.get_header()))\n",
    "ipv6.set_next_header(b\"\\x3a\")\n",
    "ipv6.set_hop_limit(20)\n",
    "ipv6.set_src_ip(src_address)\n",
    "ipv6.set_dst_ip(dst_address)\n",
    "\n",
    "packet_advertisement = ipv6_etherheader.get_header() + ipv6.get_header() + icmpv6_header.get_header()\n"
   ]
  },
  {
   "cell_type": "markdown",
   "id": "fe45c6cf-2ab3-4fb3-8f70-3340a6a979c0",
   "metadata": {},
   "source": [
    "# Making a Router Advertisement"
   ]
  },
  {
   "cell_type": "code",
   "execution_count": 136,
   "id": "373e45d5-67e1-4bdd-ba1f-608aaf0d2520",
   "metadata": {},
   "outputs": [],
   "source": [
    "class ICMPv6_Router_Advertisement:\n",
    "    def __init__(self):\n",
    "        self.reserved = b\"\\x00\" * 4\n",
    "        \n",
    "    def set_type(self,type_code):\n",
    "        self.type = type_code\n",
    "        \n",
    "    def set_code(self,code):\n",
    "        self.code = code\n",
    "        \n",
    "    def set_checksum(self, checksum):\n",
    "        self.checksum = checksum\n",
    "        \n",
    "    def set_current_hop_limit(self, limit):\n",
    "        self.hop_lim = struct.pack(\">B\", limit)\n",
    "        \n",
    "    def set_reserved(self, reserved_bits):\n",
    "        self.reserved = reserved_bits\n",
    "        \n",
    "    def set_lifetime(self, lifetime): #seconds\n",
    "        self.lifetime = struct.pack(\">H\", lifetime)\n",
    "        \n",
    "    def set_reach_time(self, reach_time): # milliseconds\n",
    "        self.reach_time = struct.pack(\">L\", reach_time)\n",
    "        \n",
    "    def set_retrans_time(self, trans_time): #milliseconds\n",
    "        self.retrans_time = struct.pack(\">L\", trans_time)\n",
    "        \n",
    "    def set_options(self, options):\n",
    "        self.options = options\n",
    "        \n",
    "    def get_header(self):\n",
    "        return self.type+ self.code + self.checksum + self.hop_lim + self.reserved + self.lifetime + self.reach_time + self.retrans_time + self.options\n",
    "\n",
    "class ICMPOptionsPrefixInformation:\n",
    "    def set_type(self, type_code):\n",
    "        self.type = type_code\n",
    "    def set_length(self, length):\n",
    "        self.length = length\n",
    "    def set_prefix_length(self, length):\n",
    "        self.prefix_length = struct.pack(\">B\", length)\n",
    "    def set_reserved(self, reserved):\n",
    "        self.reserved = reserved\n",
    "    def set_valid_lifetime(self, lifetime):\n",
    "        self.valid_lifetime = struct.pack(\">L\", lifetime)\n",
    "    def set_preferred_lifetime(self, lifetime):\n",
    "        self.preferred_lifetime = struct.pack(\">L\", lifetime)\n",
    "    def set_reserved2(self, reserved):\n",
    "        self.reserved2 = reserved\n",
    "    def set_prefix(self, prefix):\n",
    "        self.prefix = prefix\n",
    "\n",
    "    def get_header(self):\n",
    "        return self.type + self.length + self.prefix_length + self.reserved + self.valid_lifetime + self.preferred_lifetime + self.reserved2 + self.prefix\n"
   ]
  },
  {
   "cell_type": "code",
   "execution_count": 139,
   "id": "ee0857f7-1289-41c1-ae17-b9154f883f97",
   "metadata": {},
   "outputs": [],
   "source": [
    "ipv6_etherheader = EthernetHeader(\"33:33:00:00:00:01\", \"00:50:56:01:4e:df\", b\"\\x86\\xdd\")\n",
    "src_address = ipv6_to_bytes(\"fe80:0:0:0:d419:bd42:16fb:a917\") \n",
    "new_prefix = ipv6_to_bytes(\"12:0:0:0:0:0:0:0\")\n",
    "dst_address = ipv6_to_bytes(\"fe80:0:0:0:95b0:7350:42ee:60fb\") \n",
    "\n",
    "icmp_prefix_option = ICMPOptionsPrefixInformation()\n",
    "icmp_prefix_option.set_type(b\"\\x03\")\n",
    "icmp_prefix_option.set_length(b\"\\x04\")\n",
    "icmp_prefix_option.set_prefix_length(16)\n",
    "icmp_prefix_option.set_reserved(b\"\\x20\")\n",
    "icmp_prefix_option.set_valid_lifetime(20)\n",
    "icmp_prefix_option.set_preferred_lifetime(20)\n",
    "icmp_prefix_option.set_reserved2(b\"\\x00\"*4)\n",
    "icmp_prefix_option.set_prefix(new_prefix)\n",
    "\n",
    "\n",
    "icmp_options = ICMPOptions()\n",
    "icmp_options.set_type(b\"\\x01\")\n",
    "icmp_options.set_src_length(1)\n",
    "icmp_options.set_src_address(addr_to_bytes(\"00:50:56:01:4e:df\"))\n",
    "\n",
    "icmpv6_header = ICMPv6_Router_Advertisement()\n",
    "icmpv6_header.set_type(b\"\\x86\")\n",
    "icmpv6_header.set_code(b\"\\x00\")\n",
    "icmpv6_header.set_checksum(b\"\\x00\\x00\")\n",
    "icmpv6_header.set_current_hop_limit(20)\n",
    "icmpv6_header.set_reserved(b\"\\x00\") \n",
    "icmpv6_header.set_lifetime(10)\n",
    "icmpv6_header.set_reach_time(1000)\n",
    "icmpv6_header.set_retrans_time(1000)\n",
    "icmpv6_header.set_options(icmp_options.get_header() + icmp_prefix_option.get_header() )\n",
    "\n",
    "ipv6 = IPv6Header()\n",
    "ipv6.set_payload_len(len(icmpv6_header.get_header()))\n",
    "ipv6.set_next_header(b\"\\x3a\")\n",
    "ipv6.set_hop_limit(20)\n",
    "ipv6.set_src_ip(src_address)\n",
    "ipv6.set_dst_ip(dst_address)\n",
    "\n",
    "router_advertisement = ipv6_etherheader.get_header() + ipv6.get_header()  +  icmpv6_header.get_header()"
   ]
  },
  {
   "cell_type": "code",
   "execution_count": 140,
   "id": "33992771-7b36-44be-9578-04afd4fc0ba7",
   "metadata": {},
   "outputs": [],
   "source": [
    "device = \"vmxnet3 Ethernet Adapter\"\n",
    "#cno.rawsend_cksum_ipv6(packet_solicit, device)\n",
    "cno.rawsend_cksum_ipv6(router_advertisement, device)"
   ]
  },
  {
   "cell_type": "code",
   "execution_count": 141,
   "id": "35049d56-b7b3-4f0b-a2e0-ad2bb351a73e",
   "metadata": {},
   "outputs": [
    {
     "data": {
      "text/plain": [
       "'33 33 00 00 00 01 00 50 56 01 4e df 86 dd 60 00 00 00 00 38 3a 14 fe 80 00 00 00 00 00 00 d4 19 bd 42 16 fb a9 17 fe 80 00 00 00 00 00 00 95 b0 73 50 42 ee 60 fb 86 00 00 00 14 00 00 0a 00 00 03 e8 00 00 03 e8 01 01 00 50 56 01 4e df 03 04 10 20 00 00 00 14 00 00 00 14 00 00 00 00 00 12 00 00 00 00 00 00 00 00 00 00 00 00 00 00'"
      ]
     },
     "execution_count": 141,
     "metadata": {},
     "output_type": "execute_result"
    }
   ],
   "source": [
    "\" \".join([hex(int(b))[2:].zfill(2) for b in router_advertisement])"
   ]
  },
  {
   "cell_type": "code",
   "execution_count": null,
   "id": "0c283148-0062-4382-8d16-c513d49cd6af",
   "metadata": {},
   "outputs": [],
   "source": []
  }
 ],
 "metadata": {
  "kernelspec": {
   "display_name": "Python 3 (ipykernel)",
   "language": "python",
   "name": "python3"
  },
  "language_info": {
   "codemirror_mode": {
    "name": "ipython",
    "version": 3
   },
   "file_extension": ".py",
   "mimetype": "text/x-python",
   "name": "python",
   "nbconvert_exporter": "python",
   "pygments_lexer": "ipython3",
   "version": "3.12.2"
  }
 },
 "nbformat": 4,
 "nbformat_minor": 5
}
