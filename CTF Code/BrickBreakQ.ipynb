{
 "cells": [
  {
   "cell_type": "code",
   "execution_count": 1,
   "id": "ba848a65-5e9b-44c3-a6bc-7931bd930ec8",
   "metadata": {},
   "outputs": [],
   "source": [
    "import matplotlib.pyplot as plt\n",
    "import os"
   ]
  },
  {
   "cell_type": "code",
   "execution_count": 2,
   "id": "69a7c718-548d-4fce-b057-9bb9ec5a6c07",
   "metadata": {},
   "outputs": [],
   "source": [
    "import brick_code as bc\n",
    "from datetime import datetime\n",
    "import pickle\n",
    "import socket\n",
    "import time"
   ]
  },
  {
   "cell_type": "code",
   "execution_count": 3,
   "id": "fad5e5d3-6712-468e-8b2a-59787fe2f38e",
   "metadata": {},
   "outputs": [],
   "source": [
    "def run(name):\n",
    "    attempt_name = f\"{name}.pkl\"\n",
    "    s = socket.socket(socket.AF_INET, socket.SOCK_STREAM)\n",
    "    # now connect to the web server on port 80 - the normal http port\n",
    "    s.connect((\"pyctf.class.net\", 8086))\n",
    "    lines = []\n",
    "    chunk = s.recv(2048)\n",
    "    while True:\n",
    "        lines.append(chunk)\n",
    "        chunk = chunk.decode()\n",
    "        if chunk.find(\"GAME OVER\") != -1:\n",
    "            break\n",
    "            \n",
    "        block, offset = bc.get_current_block(chunk)\n",
    "        board = bc.get_current_board(chunk)\n",
    "        candidates = bc.get_candidates(board, block, offset)\n",
    "        can = bc.get_best_candidate(candidates)\n",
    "        \n",
    "        s.send(f'{can[\"op\"]}\\n'.encode())\n",
    "        time.sleep(0.1)\n",
    "        chunk = s.recv(2048)\n",
    "    with open(attempt_name, 'wb') as file_out:\n",
    "        pickle.dump(lines, file_out)\n",
    "    return lines"
   ]
  },
  {
   "cell_type": "code",
   "execution_count": 4,
   "id": "7fd2f4bb-6b39-427f-b13f-1b0d4b61f5a8",
   "metadata": {},
   "outputs": [
    {
     "ename": "TypeError",
     "evalue": "'list' object is not callable",
     "output_type": "error",
     "traceback": [
      "\u001b[1;31m---------------------------------------------------------------------------\u001b[0m",
      "\u001b[1;31mTypeError\u001b[0m                                 Traceback (most recent call last)",
      "Cell \u001b[1;32mIn[4], line 4\u001b[0m\n\u001b[0;32m      2\u001b[0m \u001b[38;5;28;01mfor\u001b[39;00m n \u001b[38;5;129;01min\u001b[39;00m [\u001b[38;5;124m'\u001b[39m\u001b[38;5;124m1\u001b[39m\u001b[38;5;124m'\u001b[39m,\u001b[38;5;124m'\u001b[39m\u001b[38;5;124m2\u001b[39m\u001b[38;5;124m'\u001b[39m,\u001b[38;5;124m'\u001b[39m\u001b[38;5;124m3\u001b[39m\u001b[38;5;124m'\u001b[39m,\u001b[38;5;124m'\u001b[39m\u001b[38;5;124m4\u001b[39m\u001b[38;5;124m'\u001b[39m,\u001b[38;5;124m'\u001b[39m\u001b[38;5;124m5\u001b[39m\u001b[38;5;124m'\u001b[39m,\u001b[38;5;124m'\u001b[39m\u001b[38;5;124m6\u001b[39m\u001b[38;5;124m'\u001b[39m,\u001b[38;5;124m'\u001b[39m\u001b[38;5;124m7\u001b[39m\u001b[38;5;124m'\u001b[39m,\u001b[38;5;124m'\u001b[39m\u001b[38;5;124m8\u001b[39m\u001b[38;5;124m'\u001b[39m,\u001b[38;5;124m'\u001b[39m\u001b[38;5;124m9\u001b[39m\u001b[38;5;124m'\u001b[39m]:\n\u001b[0;32m      3\u001b[0m     lines \u001b[38;5;241m=\u001b[39m run(n)\n\u001b[1;32m----> 4\u001b[0m     \u001b[43mlines_of_lines\u001b[49m\u001b[43m(\u001b[49m\u001b[43mlines\u001b[49m\u001b[43m)\u001b[49m\n",
      "\u001b[1;31mTypeError\u001b[0m: 'list' object is not callable"
     ]
    }
   ],
   "source": [
    "lines_of_lines = []\n",
    "for n in ['1','2','3','4','5','6','7','8','9']:\n",
    "    lines = run(n)\n",
    "    lines_of_lines(lines)"
   ]
  },
  {
   "cell_type": "code",
   "execution_count": null,
   "id": "9fee5534-86d7-44c7-b96c-47337169a9b5",
   "metadata": {},
   "outputs": [],
   "source": [
    "max_cols = 6\n",
    "boards = []\n",
    "for l in lines:\n",
    "    l = l.decode()\n",
    "    try:\n",
    "        boards.append(bc.get_current_board(l))\n",
    "    except:\n",
    "        pass\n",
    "fig, ax = plt.subplots()\n",
    "fig.tight_layout()\n",
    "row = 0\n",
    "col = 0\n",
    "for board in boards[::-1]:\n",
    "    ax = fig.add_axes([col, row,.5,1])\n",
    "    ax.imshow(board)\n",
    "    \n",
    "    if col  == max_cols-1:\n",
    "        row += 1\n",
    "        col = -1\n",
    "    col += 1\n",
    "plt.show()"
   ]
  },
  {
   "cell_type": "code",
   "execution_count": null,
   "id": "ffb3721f-ac6e-438b-8fd0-1684f3886a2a",
   "metadata": {},
   "outputs": [],
   "source": [
    "lines_of_lines[0]"
   ]
  },
  {
   "cell_type": "code",
   "execution_count": null,
   "id": "4582ea2e-78ec-47ca-a598-5e1604d08e34",
   "metadata": {},
   "outputs": [],
   "source": []
  }
 ],
 "metadata": {
  "kernelspec": {
   "display_name": "Python 3 (ipykernel)",
   "language": "python",
   "name": "python3"
  },
  "language_info": {
   "codemirror_mode": {
    "name": "ipython",
    "version": 3
   },
   "file_extension": ".py",
   "mimetype": "text/x-python",
   "name": "python",
   "nbconvert_exporter": "python",
   "pygments_lexer": "ipython3",
   "version": "3.12.2"
  }
 },
 "nbformat": 4,
 "nbformat_minor": 5
}
