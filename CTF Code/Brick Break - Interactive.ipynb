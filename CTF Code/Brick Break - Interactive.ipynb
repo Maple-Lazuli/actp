{
 "cells": [
  {
   "cell_type": "code",
   "execution_count": 1,
   "id": "cce646b8-c723-4905-b69f-96240b3c0c06",
   "metadata": {},
   "outputs": [],
   "source": [
    "import os"
   ]
  },
  {
   "cell_type": "code",
   "execution_count": 2,
   "id": "1050f9bb-d278-46e9-994f-c23eabda80fe",
   "metadata": {},
   "outputs": [],
   "source": [
    "import brick_code as bc\n",
    "from datetime import datetime\n",
    "import pickle\n",
    "import socket\n",
    "import time"
   ]
  },
  {
   "cell_type": "code",
   "execution_count": 3,
   "id": "7a45e18e-9ec1-4040-bb38-c9e62ef8e6ce",
   "metadata": {},
   "outputs": [
    {
     "name": "stdout",
     "output_type": "stream",
     "text": [
      "Welcome to Fit The Brick:\n",
      "Control the next block with a combination of 'lrqc', followed by a newline.\n",
      "l(left) r(right) q(counterclockwise) c(clockwise)\n",
      "Clear 15 lines in 240 seconds to win\n",
      "\n",
      "\n",
      "0/15\n",
      "    O     \n",
      "    O     \n",
      "    O     \n",
      "    O     \n",
      "----------\n",
      "0123456789\n",
      "----------\n",
      "          \n",
      "          \n",
      "          \n",
      "          \n",
      "          \n",
      "          \n",
      "          \n",
      "          \n",
      "          \n",
      "          \n",
      "          \n",
      "          \n",
      "          \n",
      "          \n",
      "          \n",
      "          \n",
      "          \n",
      "          \n",
      "          \n",
      "          \n",
      "----------\n",
      "0123456789\n",
      "----------\n",
      "\n"
     ]
    },
    {
     "name": "stdin",
     "output_type": "stream",
     "text": [
      "Command:  q\n"
     ]
    },
    {
     "name": "stdout",
     "output_type": "stream",
     "text": [
      "\n",
      "0/15\n",
      "    %%    \n",
      "     %    \n",
      "     %    \n",
      "----------\n",
      "0123456789\n",
      "----------\n",
      "          \n",
      "          \n",
      "          \n",
      "          \n",
      "          \n",
      "          \n",
      "          \n",
      "          \n",
      "          \n",
      "          \n",
      "          \n",
      "          \n",
      "          \n",
      "          \n",
      "          \n",
      "          \n",
      "          \n",
      "          \n",
      "          \n",
      "    OOOO  \n",
      "----------\n",
      "0123456789\n",
      "----------\n",
      "\n"
     ]
    },
    {
     "name": "stdin",
     "output_type": "stream",
     "text": [
      "Command:  llqq\n"
     ]
    },
    {
     "name": "stdout",
     "output_type": "stream",
     "text": [
      "\n",
      "0/15\n",
      "    88    \n",
      "    88    \n",
      "----------\n",
      "0123456789\n",
      "----------\n",
      "          \n",
      "          \n",
      "          \n",
      "          \n",
      "          \n",
      "          \n",
      "          \n",
      "          \n",
      "          \n",
      "          \n",
      "          \n",
      "          \n",
      "          \n",
      "          \n",
      "          \n",
      "          \n",
      "          \n",
      "  %       \n",
      "  %       \n",
      "  %%OOOO  \n",
      "----------\n",
      "0123456789\n",
      "----------\n",
      "\n"
     ]
    },
    {
     "name": "stdin",
     "output_type": "stream",
     "text": [
      "Command:  r\n"
     ]
    },
    {
     "name": "stdout",
     "output_type": "stream",
     "text": [
      "\n",
      "0/15\n",
      "   000    \n",
      "     0    \n",
      "----------\n",
      "0123456789\n",
      "----------\n",
      "          \n",
      "          \n",
      "          \n",
      "          \n",
      "          \n",
      "          \n",
      "          \n",
      "          \n",
      "          \n",
      "          \n",
      "          \n",
      "          \n",
      "          \n",
      "          \n",
      "          \n",
      "          \n",
      "          \n",
      "  %  88   \n",
      "  %  88   \n",
      "  %%OOOO  \n",
      "----------\n",
      "0123456789\n",
      "----------\n",
      "\n"
     ]
    },
    {
     "ename": "KeyboardInterrupt",
     "evalue": "Interrupted by user",
     "output_type": "error",
     "traceback": [
      "\u001b[1;31m---------------------------------------------------------------------------\u001b[0m",
      "\u001b[1;31mKeyboardInterrupt\u001b[0m                         Traceback (most recent call last)",
      "Cell \u001b[1;32mIn[3], line 15\u001b[0m\n\u001b[0;32m     13\u001b[0m \u001b[38;5;28;01mfor\u001b[39;00m l \u001b[38;5;129;01min\u001b[39;00m chunk\u001b[38;5;241m.\u001b[39msplit(\u001b[38;5;124m\"\u001b[39m\u001b[38;5;130;01m\\n\u001b[39;00m\u001b[38;5;124m\"\u001b[39m):\n\u001b[0;32m     14\u001b[0m     \u001b[38;5;28mprint\u001b[39m(l)\n\u001b[1;32m---> 15\u001b[0m command \u001b[38;5;241m=\u001b[39m \u001b[38;5;28;43minput\u001b[39;49m\u001b[43m(\u001b[49m\u001b[38;5;124;43m\"\u001b[39;49m\u001b[38;5;124;43mCommand: \u001b[39;49m\u001b[38;5;124;43m\"\u001b[39;49m\u001b[43m)\u001b[49m\n\u001b[0;32m     17\u001b[0m s\u001b[38;5;241m.\u001b[39msend(\u001b[38;5;124mf\u001b[39m\u001b[38;5;124m'\u001b[39m\u001b[38;5;132;01m{\u001b[39;00mcommand\u001b[38;5;132;01m}\u001b[39;00m\u001b[38;5;130;01m\\n\u001b[39;00m\u001b[38;5;124m'\u001b[39m\u001b[38;5;241m.\u001b[39mencode())\n\u001b[0;32m     18\u001b[0m time\u001b[38;5;241m.\u001b[39msleep(\u001b[38;5;241m0.1\u001b[39m)\n",
      "File \u001b[1;32m~\\AppData\\Local\\Programs\\Python\\Python312\\Lib\\site-packages\\ipykernel\\kernelbase.py:1282\u001b[0m, in \u001b[0;36mKernel.raw_input\u001b[1;34m(self, prompt)\u001b[0m\n\u001b[0;32m   1280\u001b[0m     msg \u001b[38;5;241m=\u001b[39m \u001b[38;5;124m\"\u001b[39m\u001b[38;5;124mraw_input was called, but this frontend does not support input requests.\u001b[39m\u001b[38;5;124m\"\u001b[39m\n\u001b[0;32m   1281\u001b[0m     \u001b[38;5;28;01mraise\u001b[39;00m StdinNotImplementedError(msg)\n\u001b[1;32m-> 1282\u001b[0m \u001b[38;5;28;01mreturn\u001b[39;00m \u001b[38;5;28;43mself\u001b[39;49m\u001b[38;5;241;43m.\u001b[39;49m\u001b[43m_input_request\u001b[49m\u001b[43m(\u001b[49m\n\u001b[0;32m   1283\u001b[0m \u001b[43m    \u001b[49m\u001b[38;5;28;43mstr\u001b[39;49m\u001b[43m(\u001b[49m\u001b[43mprompt\u001b[49m\u001b[43m)\u001b[49m\u001b[43m,\u001b[49m\n\u001b[0;32m   1284\u001b[0m \u001b[43m    \u001b[49m\u001b[38;5;28;43mself\u001b[39;49m\u001b[38;5;241;43m.\u001b[39;49m\u001b[43m_parent_ident\u001b[49m\u001b[43m[\u001b[49m\u001b[38;5;124;43m\"\u001b[39;49m\u001b[38;5;124;43mshell\u001b[39;49m\u001b[38;5;124;43m\"\u001b[39;49m\u001b[43m]\u001b[49m\u001b[43m,\u001b[49m\n\u001b[0;32m   1285\u001b[0m \u001b[43m    \u001b[49m\u001b[38;5;28;43mself\u001b[39;49m\u001b[38;5;241;43m.\u001b[39;49m\u001b[43mget_parent\u001b[49m\u001b[43m(\u001b[49m\u001b[38;5;124;43m\"\u001b[39;49m\u001b[38;5;124;43mshell\u001b[39;49m\u001b[38;5;124;43m\"\u001b[39;49m\u001b[43m)\u001b[49m\u001b[43m,\u001b[49m\n\u001b[0;32m   1286\u001b[0m \u001b[43m    \u001b[49m\u001b[43mpassword\u001b[49m\u001b[38;5;241;43m=\u001b[39;49m\u001b[38;5;28;43;01mFalse\u001b[39;49;00m\u001b[43m,\u001b[49m\n\u001b[0;32m   1287\u001b[0m \u001b[43m\u001b[49m\u001b[43m)\u001b[49m\n",
      "File \u001b[1;32m~\\AppData\\Local\\Programs\\Python\\Python312\\Lib\\site-packages\\ipykernel\\kernelbase.py:1325\u001b[0m, in \u001b[0;36mKernel._input_request\u001b[1;34m(self, prompt, ident, parent, password)\u001b[0m\n\u001b[0;32m   1322\u001b[0m \u001b[38;5;28;01mexcept\u001b[39;00m \u001b[38;5;167;01mKeyboardInterrupt\u001b[39;00m:\n\u001b[0;32m   1323\u001b[0m     \u001b[38;5;66;03m# re-raise KeyboardInterrupt, to truncate traceback\u001b[39;00m\n\u001b[0;32m   1324\u001b[0m     msg \u001b[38;5;241m=\u001b[39m \u001b[38;5;124m\"\u001b[39m\u001b[38;5;124mInterrupted by user\u001b[39m\u001b[38;5;124m\"\u001b[39m\n\u001b[1;32m-> 1325\u001b[0m     \u001b[38;5;28;01mraise\u001b[39;00m \u001b[38;5;167;01mKeyboardInterrupt\u001b[39;00m(msg) \u001b[38;5;28;01mfrom\u001b[39;00m \u001b[38;5;28;01mNone\u001b[39;00m\n\u001b[0;32m   1326\u001b[0m \u001b[38;5;28;01mexcept\u001b[39;00m \u001b[38;5;167;01mException\u001b[39;00m:\n\u001b[0;32m   1327\u001b[0m     \u001b[38;5;28mself\u001b[39m\u001b[38;5;241m.\u001b[39mlog\u001b[38;5;241m.\u001b[39mwarning(\u001b[38;5;124m\"\u001b[39m\u001b[38;5;124mInvalid Message:\u001b[39m\u001b[38;5;124m\"\u001b[39m, exc_info\u001b[38;5;241m=\u001b[39m\u001b[38;5;28;01mTrue\u001b[39;00m)\n",
      "\u001b[1;31mKeyboardInterrupt\u001b[0m: Interrupted by user"
     ]
    }
   ],
   "source": [
    "s = socket.socket(socket.AF_INET, socket.SOCK_STREAM)\n",
    "# now connect to the web server on port 80 - the normal http port\n",
    "s.connect((\"pyctf.class.net\", 8086))\n",
    "lines = []\n",
    "chunk = s.recv(2048)\n",
    "while True:\n",
    "    lines.append(chunk)\n",
    "    chunk = chunk.decode()\n",
    "    \n",
    "    if chunk.find(\"GAME OVER\") != -1:\n",
    "        break\n",
    "\n",
    "    for l in chunk.split(\"\\n\"):\n",
    "        print(l)\n",
    "    command = input(\"Command: \")\n",
    "    \n",
    "    s.send(f'{command}\\n'.encode())\n",
    "    time.sleep(0.1)\n",
    "    chunk = s.recv(2048)"
   ]
  },
  {
   "cell_type": "code",
   "execution_count": 6,
   "id": "acf96642-6aab-49b9-a2e7-ccc2426a11fb",
   "metadata": {
    "scrolled": true
   },
   "outputs": [
    {
     "name": "stdout",
     "output_type": "stream",
     "text": [
      "\n",
      "0/15\n",
      "   000    \n",
      "     0    \n",
      "----------\n",
      "0123456789\n",
      "----------\n",
      "          \n",
      "          \n",
      "       XX \n",
      "       QXX\n",
      "       QQ \n",
      "00      Q \n",
      "0       0 \n",
      "0B    O 0 \n",
      "BB    O00 \n",
      " B    OB  \n",
      " %%   OBB \n",
      "  %   QB  \n",
      "00%X  QQ  \n",
      "0 XX 00Q  \n",
      "0 X  0 88 \n",
      "QXX  0 88 \n",
      "QQXX OO88 \n",
      " Q   OO88 \n",
      "XXBBBOO QQ\n",
      " XXB OOQQ \n",
      "----------\n",
      "0123456789\n",
      "----------\n",
      "\n",
      "\n",
      "0/15\n",
      "    Q     \n",
      "    QQ    \n",
      "     Q    \n",
      "----------\n",
      "0123456789\n",
      "----------\n",
      "          \n",
      "          \n",
      "00     XX \n",
      "0      QXX\n",
      "0      QQ \n",
      "00      Q \n",
      "0       0 \n",
      "0B    O 0 \n",
      "BB    O00 \n",
      " B    OB  \n",
      " %%   OBB \n",
      "  %   QB  \n",
      "00%X  QQ  \n",
      "0 XX 00Q  \n",
      "0 X  0 88 \n",
      "QXX  0 88 \n",
      "QQXX OO88 \n",
      " Q   OO88 \n",
      "XXBBBOO QQ\n",
      " XXB OOQQ \n",
      "----------\n",
      "0123456789\n",
      "----------\n",
      "\n"
     ]
    }
   ],
   "source": [
    "for line in lines[-3:-1]:\n",
    "    for l in line.decode().split(\"\\n\"):\n",
    "        print(l)"
   ]
  }
 ],
 "metadata": {
  "kernelspec": {
   "display_name": "Python 3 (ipykernel)",
   "language": "python",
   "name": "python3"
  },
  "language_info": {
   "codemirror_mode": {
    "name": "ipython",
    "version": 3
   },
   "file_extension": ".py",
   "mimetype": "text/x-python",
   "name": "python",
   "nbconvert_exporter": "python",
   "pygments_lexer": "ipython3",
   "version": "3.12.2"
  }
 },
 "nbformat": 4,
 "nbformat_minor": 5
}
