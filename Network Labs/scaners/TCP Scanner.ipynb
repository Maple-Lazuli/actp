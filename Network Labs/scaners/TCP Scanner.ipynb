{
 "cells": [
  {
   "cell_type": "code",
   "execution_count": 1,
   "id": "1c87bf20-ba8f-4e86-a76f-838c3abfe1b5",
   "metadata": {},
   "outputs": [],
   "source": [
    "import socket\n",
    "from dask import delayed, compute\n",
    "from dask.diagnostics import ProgressBar"
   ]
  },
  {
   "cell_type": "code",
   "execution_count": 2,
   "id": "959bfbd2-5d6f-4754-8798-88af95dbb7c9",
   "metadata": {},
   "outputs": [],
   "source": [
    "ip = \"localhost\"\n",
    "port =  12345"
   ]
  },
  {
   "cell_type": "code",
   "execution_count": 3,
   "id": "1cfed9a3-15e1-4a19-8c67-1e63dfb35298",
   "metadata": {},
   "outputs": [],
   "source": [
    "def port_open(ip:str, port:int) -> bool:\n",
    "    try:\n",
    "        s = get_socket(ip, port)\n",
    "        s.connect((ip,port))\n",
    "        s.shutdown(2)\n",
    "        s.close()\n",
    "        return (True, port)\n",
    "    except:\n",
    "        s.close()\n",
    "    finally:\n",
    "        return (False, port)"
   ]
  },
  {
   "cell_type": "code",
   "execution_count": 4,
   "id": "bc48058a-d8c6-4505-9675-173e95f304f2",
   "metadata": {},
   "outputs": [],
   "source": [
    "def get_socket(ip:str, port:int) ->socket.socket:\n",
    "    if \":\" in ip:\n",
    "        return socket.socket(socket.AF_INET6, socket.SOCK_STREAM)\n",
    "    else:\n",
    "        return socket.socket(socket.AF_INET, socket.SOCK_STREAM)"
   ]
  },
  {
   "cell_type": "code",
   "execution_count": 5,
   "id": "14e57f69-4ede-4d13-86e4-8d47a760976f",
   "metadata": {},
   "outputs": [],
   "source": [
    "to_scan = []\n",
    "for i in range(7999,12345):\n",
    "    to_scan.append(delayed(port_open)(ip, i))"
   ]
  },
  {
   "cell_type": "code",
   "execution_count": null,
   "id": "e9375cfe-5c37-4a15-95c9-b1a4f700674b",
   "metadata": {},
   "outputs": [
    {
     "name": "stdout",
     "output_type": "stream",
     "text": [
      "[                                        ] | 1% Completed | 28.02 sms"
     ]
    }
   ],
   "source": [
    "with ProgressBar():\n",
    "    res = compute(*to_scan)"
   ]
  },
  {
   "cell_type": "code",
   "execution_count": null,
   "id": "664c2a48-2890-416f-a1a5-7316ec0d9a5a",
   "metadata": {},
   "outputs": [],
   "source": []
  }
 ],
 "metadata": {
  "kernelspec": {
   "display_name": "Python 3 (ipykernel)",
   "language": "python",
   "name": "python3"
  },
  "language_info": {
   "codemirror_mode": {
    "name": "ipython",
    "version": 3
   },
   "file_extension": ".py",
   "mimetype": "text/x-python",
   "name": "python",
   "nbconvert_exporter": "python",
   "pygments_lexer": "ipython3",
   "version": "3.12.2"
  }
 },
 "nbformat": 4,
 "nbformat_minor": 5
}
