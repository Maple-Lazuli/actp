{
 "cells": [
  {
   "cell_type": "markdown",
   "id": "acb1ea2d-8c51-4eb2-a5f1-e72783b3a7a3",
   "metadata": {},
   "source": [
    "before this, run the following command:\n",
    "```shell\n",
    "ncat.exe -u -l 8888\n",
    "```"
   ]
  },
  {
   "cell_type": "code",
   "execution_count": 1,
   "id": "bec2d05a-ac46-4eb2-897f-80ea0b8c4152",
   "metadata": {},
   "outputs": [],
   "source": [
    "import socket\n",
    "s = socket.socket(socket.AF_INET, socket.SOCK_DGRAM)"
   ]
  },
  {
   "cell_type": "code",
   "execution_count": 2,
   "id": "7e2de06a-baf9-4f44-ae48-5ea834f76ca4",
   "metadata": {},
   "outputs": [],
   "source": [
    "s.connect((\"172.16.91.10\", 8888))"
   ]
  },
  {
   "cell_type": "code",
   "execution_count": 5,
   "id": "425fe968-224b-4466-a217-46c0a05374ff",
   "metadata": {},
   "outputs": [
    {
     "data": {
      "text/plain": [
       "7"
      ]
     },
     "execution_count": 5,
     "metadata": {},
     "output_type": "execute_result"
    }
   ],
   "source": [
    "s.send(b\"Gwarr!\\n\")"
   ]
  },
  {
   "cell_type": "code",
   "execution_count": 6,
   "id": "95dc0867-a4e0-4a65-bda1-6501726f7dfa",
   "metadata": {},
   "outputs": [
    {
     "data": {
      "text/plain": [
       "15"
      ]
     },
     "execution_count": 6,
     "metadata": {},
     "output_type": "execute_result"
    }
   ],
   "source": [
    "s.send(b\"Gwwwaaaarrrr!!!\")"
   ]
  },
  {
   "cell_type": "code",
   "execution_count": null,
   "id": "0942dcb4-eaeb-4f69-b0c9-37c3b47cd475",
   "metadata": {},
   "outputs": [],
   "source": []
  }
 ],
 "metadata": {
  "kernelspec": {
   "display_name": "Python 3 (ipykernel)",
   "language": "python",
   "name": "python3"
  },
  "language_info": {
   "codemirror_mode": {
    "name": "ipython",
    "version": 3
   },
   "file_extension": ".py",
   "mimetype": "text/x-python",
   "name": "python",
   "nbconvert_exporter": "python",
   "pygments_lexer": "ipython3",
   "version": "3.12.2"
  }
 },
 "nbformat": 4,
 "nbformat_minor": 5
}
