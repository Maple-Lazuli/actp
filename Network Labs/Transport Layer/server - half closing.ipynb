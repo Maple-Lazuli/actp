{
 "cells": [
  {
   "cell_type": "code",
   "execution_count": 1,
   "id": "0dbac2cc-f2bc-4713-b13d-a18721f61a73",
   "metadata": {},
   "outputs": [],
   "source": [
    "import socket\n",
    "\n",
    "def start_server(port):\n",
    "    server_socket = socket.socket(socket.AF_INET, socket.SOCK_STREAM)\n",
    "    server_socket.bind(('localhost', port))\n",
    "    server_socket.listen(1)\n",
    "    print(f\"Server listening on port {port}\")\n",
    "\n",
    "    client_socket, addr = server_socket.accept()\n",
    "    print(f\"Connection from {addr}\")\n",
    "    while True:\n",
    "        data = client_socket.recv(1024)\n",
    "        if not data:\n",
    "            break\n",
    "        print(f\"Received: {data.decode()}\")\n",
    "        client_socket.send(data)\n",
    "        # Use this to send the half shutdown.\n",
    "        client_socket.shutdown(socket.SHUT_RDWR)\n",
    "        break\n",
    "    client_socket.close()\n",
    "    server_socket.close()\n",
    "    print(\"Server closed\")"
   ]
  },
  {
   "cell_type": "code",
   "execution_count": 2,
   "id": "fddc6abd-e955-4e55-a2d7-9b7250a15313",
   "metadata": {},
   "outputs": [],
   "source": [
    "port = 12345"
   ]
  },
  {
   "cell_type": "code",
   "execution_count": 3,
   "id": "5d17c931-f40b-49f5-8678-50b5204ec691",
   "metadata": {},
   "outputs": [],
   "source": [
    "#start_server(port)"
   ]
  },
  {
   "cell_type": "code",
   "execution_count": 4,
   "id": "5dcac85f-7b29-4263-87a7-b19ab85aa06f",
   "metadata": {},
   "outputs": [],
   "source": [
    "def start_server(port):\n",
    "    server_socket = socket.socket(socket.AF_INET, socket.SOCK_STREAM)\n",
    "    server_socket.bind(('localhost', port))\n",
    "    server_socket.listen(1)\n",
    "    print(f\"Server listening on port {port}\")\n",
    "\n",
    "    client_socket, addr = server_socket.accept()\n",
    "    print(f\"Connection from {addr}\")\n",
    "    while True:\n",
    "        data = client_socket.recv(1024)\n",
    "        #client_socket.send(data)\n",
    "    client_socket.close()\n",
    "    server_socket.close()\n",
    "    print(\"Server closed\")"
   ]
  },
  {
   "cell_type": "code",
   "execution_count": 5,
   "id": "60613ac4-094d-43fb-8f87-c51f48cf1a5b",
   "metadata": {},
   "outputs": [
    {
     "name": "stdout",
     "output_type": "stream",
     "text": [
      "Server listening on port 12345\n",
      "Connection from ('127.0.0.1', 63927)\n"
     ]
    },
    {
     "ename": "KeyboardInterrupt",
     "evalue": "",
     "output_type": "error",
     "traceback": [
      "\u001b[1;31m---------------------------------------------------------------------------\u001b[0m",
      "\u001b[1;31mKeyboardInterrupt\u001b[0m                         Traceback (most recent call last)",
      "Cell \u001b[1;32mIn[5], line 1\u001b[0m\n\u001b[1;32m----> 1\u001b[0m \u001b[43mstart_server\u001b[49m\u001b[43m(\u001b[49m\u001b[43mport\u001b[49m\u001b[43m)\u001b[49m\n",
      "Cell \u001b[1;32mIn[4], line 10\u001b[0m, in \u001b[0;36mstart_server\u001b[1;34m(port)\u001b[0m\n\u001b[0;32m      8\u001b[0m \u001b[38;5;28mprint\u001b[39m(\u001b[38;5;124mf\u001b[39m\u001b[38;5;124m\"\u001b[39m\u001b[38;5;124mConnection from \u001b[39m\u001b[38;5;132;01m{\u001b[39;00maddr\u001b[38;5;132;01m}\u001b[39;00m\u001b[38;5;124m\"\u001b[39m)\n\u001b[0;32m      9\u001b[0m \u001b[38;5;28;01mwhile\u001b[39;00m \u001b[38;5;28;01mTrue\u001b[39;00m:\n\u001b[1;32m---> 10\u001b[0m     data \u001b[38;5;241m=\u001b[39m \u001b[43mclient_socket\u001b[49m\u001b[38;5;241;43m.\u001b[39;49m\u001b[43mrecv\u001b[49m\u001b[43m(\u001b[49m\u001b[38;5;241;43m1024\u001b[39;49m\u001b[43m)\u001b[49m\n\u001b[0;32m     11\u001b[0m     \u001b[38;5;66;03m#client_socket.send(data)\u001b[39;00m\n\u001b[0;32m     12\u001b[0m client_socket\u001b[38;5;241m.\u001b[39mclose()\n",
      "\u001b[1;31mKeyboardInterrupt\u001b[0m: "
     ]
    }
   ],
   "source": [
    "start_server(port)"
   ]
  },
  {
   "cell_type": "code",
   "execution_count": 6,
   "id": "f5f63f9d-1035-4a6c-95cf-cabb8907d6df",
   "metadata": {},
   "outputs": [
    {
     "data": {
      "text/plain": [
       "16.0"
      ]
     },
     "execution_count": 6,
     "metadata": {},
     "output_type": "execute_result"
    }
   ],
   "source": [
    "128/8"
   ]
  },
  {
   "cell_type": "code",
   "execution_count": 7,
   "id": "6c331378-c49b-42e0-86b9-ff9a3ce76592",
   "metadata": {},
   "outputs": [],
   "source": [
    "import socket"
   ]
  },
  {
   "cell_type": "code",
   "execution_count": 9,
   "id": "84526fdc-2b73-497f-bf73-10ec3bbd172b",
   "metadata": {},
   "outputs": [
    {
     "data": {
      "text/plain": [
       "b'\\x00\\x00\\x00\\x00\\x00\\x00\\x00\\x00\\x00\\x00\\x00\\x00\\x00\\x00\\x00\\x01'"
      ]
     },
     "execution_count": 9,
     "metadata": {},
     "output_type": "execute_result"
    }
   ],
   "source": [
    "socket.inet_pton(socket.AF_INET6,\"::1\")"
   ]
  },
  {
   "cell_type": "code",
   "execution_count": null,
   "id": "e31545aa-dfee-4a1f-9e15-f710ae1175ad",
   "metadata": {},
   "outputs": [],
   "source": []
  }
 ],
 "metadata": {
  "kernelspec": {
   "display_name": "Python 3 (ipykernel)",
   "language": "python",
   "name": "python3"
  },
  "language_info": {
   "codemirror_mode": {
    "name": "ipython",
    "version": 3
   },
   "file_extension": ".py",
   "mimetype": "text/x-python",
   "name": "python",
   "nbconvert_exporter": "python",
   "pygments_lexer": "ipython3",
   "version": "3.12.2"
  }
 },
 "nbformat": 4,
 "nbformat_minor": 5
}
