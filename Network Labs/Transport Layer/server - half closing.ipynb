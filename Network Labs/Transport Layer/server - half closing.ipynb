{
 "cells": [
  {
   "cell_type": "code",
   "execution_count": 1,
   "id": "0dbac2cc-f2bc-4713-b13d-a18721f61a73",
   "metadata": {},
   "outputs": [],
   "source": [
    "import socket\n",
    "\n",
    "def start_server(port):\n",
    "    server_socket = socket.socket(socket.AF_INET, socket.SOCK_STREAM)\n",
    "    server_socket.bind(('localhost', port))\n",
    "    server_socket.listen(1)\n",
    "    print(f\"Server listening on port {port}\")\n",
    "\n",
    "    client_socket, addr = server_socket.accept()\n",
    "    print(f\"Connection from {addr}\")\n",
    "    while True:\n",
    "        data = client_socket.recv(1024)\n",
    "        if not data:\n",
    "            break\n",
    "        print(f\"Received: {data.decode()}\")\n",
    "        client_socket.send(data)\n",
    "        # Use this to send the half shutdown.\n",
    "        client_socket.shutdown(socket.SHUT_RDWR)\n",
    "        break\n",
    "    client_socket.close()\n",
    "    server_socket.close()\n",
    "    print(\"Server closed\")"
   ]
  },
  {
   "cell_type": "code",
   "execution_count": 2,
   "id": "fddc6abd-e955-4e55-a2d7-9b7250a15313",
   "metadata": {},
   "outputs": [],
   "source": [
    "port = 12345"
   ]
  },
  {
   "cell_type": "code",
   "execution_count": 3,
   "id": "5d17c931-f40b-49f5-8678-50b5204ec691",
   "metadata": {},
   "outputs": [],
   "source": [
    "#start_server(port)"
   ]
  },
  {
   "cell_type": "code",
   "execution_count": 4,
   "id": "5dcac85f-7b29-4263-87a7-b19ab85aa06f",
   "metadata": {},
   "outputs": [],
   "source": [
    "def start_server(port):\n",
    "    server_socket = socket.socket(socket.AF_INET, socket.SOCK_STREAM)\n",
    "    server_socket.bind(('localhost', port))\n",
    "    server_socket.listen(1)\n",
    "    print(f\"Server listening on port {port}\")\n",
    "\n",
    "    client_socket, addr = server_socket.accept()\n",
    "    print(f\"Connection from {addr}\")\n",
    "    while True:\n",
    "        data = client_socket.recv(1024)\n",
    "        #client_socket.send(data)\n",
    "    client_socket.close()\n",
    "    server_socket.close()\n",
    "    print(\"Server closed\")"
   ]
  },
  {
   "cell_type": "code",
   "execution_count": null,
   "id": "60613ac4-094d-43fb-8f87-c51f48cf1a5b",
   "metadata": {},
   "outputs": [
    {
     "name": "stdout",
     "output_type": "stream",
     "text": [
      "Server listening on port 12345\n"
     ]
    }
   ],
   "source": [
    "start_server(port)"
   ]
  },
  {
   "cell_type": "code",
   "execution_count": null,
   "id": "f5f63f9d-1035-4a6c-95cf-cabb8907d6df",
   "metadata": {},
   "outputs": [],
   "source": []
  }
 ],
 "metadata": {
  "kernelspec": {
   "display_name": "Python 3 (ipykernel)",
   "language": "python",
   "name": "python3"
  },
  "language_info": {
   "codemirror_mode": {
    "name": "ipython",
    "version": 3
   },
   "file_extension": ".py",
   "mimetype": "text/x-python",
   "name": "python",
   "nbconvert_exporter": "python",
   "pygments_lexer": "ipython3",
   "version": "3.12.2"
  }
 },
 "nbformat": 4,
 "nbformat_minor": 5
}
