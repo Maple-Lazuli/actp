{
 "cells": [
  {
   "cell_type": "code",
   "execution_count": 1,
   "id": "6a0a835c-a63b-4dfe-a2c6-7627b24efe7e",
   "metadata": {},
   "outputs": [
    {
     "name": "stdout",
     "output_type": "stream",
     "text": [
      "\n",
      "  List of available devices to send/recieve from:\n",
      "  Use the name from the 'Name' column as your dev argument to the raw_send family of functions\n",
      "  You can also find this information from 'ipconfig /all' under the Description column.\n",
      "\n",
      "Source   Index  Name                                      MAC                IPv4           IPv6                       \n",
      "libpcap  1      Software Loopback Interface 1             00:00:00:00:00:00  127.0.0.1      ::1                        \n",
      "libpcap  13     WAN Miniport (IP)                                                                                      \n",
      "libpcap  14     vmxnet3 Ethernet Adapter                  VMware:01:4e:df    172.16.91.10   fe80::d419:bd42:16fb:a917  \n",
      "                                                                                            a:c:7:9:d419:bd42:16fb:a917\n",
      "                                                                                            a:c:7:9:55f4:6249:95f:fe55 \n",
      "libpcap  19     WAN Miniport (Network Monitor)                                                                         \n",
      "libpcap  20     VirtualBox Host-Only Ethernet Adapter     0a:00:27:00:00:14  192.168.56.1   fe80::702a:1772:334b:a8f8  \n",
      "libpcap  21     VMware Virtual Ethernet Adapter for VMn_  VMware:c0:00:01    192.168.152.1  fe80::7daa:ca7d:27d4:a6ed  \n",
      "libpcap  22     VMware Virtual Ethernet Adapter for VMn_  VMware:c0:00:08    192.168.15.1   fe80::6d06:da9f:ce5c:b8c2  \n",
      "libpcap  24     WAN Miniport (IPv6)                                                                                    \n"
     ]
    }
   ],
   "source": [
    "import lab1_task4 as lt"
   ]
  },
  {
   "cell_type": "code",
   "execution_count": 10,
   "id": "2cba880c-54a6-426a-86bf-907b6a3325a8",
   "metadata": {},
   "outputs": [],
   "source": [
    "smac =\"00:50:56:01:4e:df\"\n",
    "dmac =\"00:50:56:01:4e:df\" \n",
    "sip =\"172.16.91.10\"\n",
    "gate = \"172.16.91.0\"\n",
    "dip= \"172.16.91.254\"\n",
    "dev= \"vmxnet3 Ethernet Adapter\" "
   ]
  },
  {
   "cell_type": "code",
   "execution_count": 19,
   "id": "113dea84-ef6c-423e-93ab-a7ce53db1d45",
   "metadata": {},
   "outputs": [],
   "source": [
    "lt.main(smac,smac,dip, sip,dev)"
   ]
  },
  {
   "cell_type": "code",
   "execution_count": null,
   "id": "f22594be-ec21-4f96-89dc-43768304e80a",
   "metadata": {},
   "outputs": [],
   "source": []
  }
 ],
 "metadata": {
  "kernelspec": {
   "display_name": "Python 3 (ipykernel)",
   "language": "python",
   "name": "python3"
  },
  "language_info": {
   "codemirror_mode": {
    "name": "ipython",
    "version": 3
   },
   "file_extension": ".py",
   "mimetype": "text/x-python",
   "name": "python",
   "nbconvert_exporter": "python",
   "pygments_lexer": "ipython3",
   "version": "3.12.2"
  }
 },
 "nbformat": 4,
 "nbformat_minor": 5
}
