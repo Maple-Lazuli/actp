{
 "cells": [
  {
   "cell_type": "code",
   "execution_count": 1,
   "id": "6188341a-bc94-4066-abbd-e55d276b3fcc",
   "metadata": {},
   "outputs": [],
   "source": [
    "import socket\n",
    "\n",
    "def start_client(port):\n",
    "    client_socket = socket.socket(socket.AF_INET, socket.SOCK_STREAM)\n",
    "    client_socket.connect(('localhost', port))\n",
    "\n",
    "    message = \"Hello, server!\"\n",
    "    client_socket.send(message.encode())\n",
    "    message = \"Hello, Wha!\"\n",
    "    client_socket.send(message.encode())\n",
    "    \n",
    "    \n",
    "    # Shutdown the sending side of the socket\n",
    "    client_socket.shutdown(socket.SHUT_WR)\n",
    "    print(\"Sent data and shutdown the sending side of the connection.\")\n",
    "\n",
    "    # Optionally, you can add code here to receive data from the server\n",
    "    # ...\n",
    "    return client_socket\n",
    "    #client_socket.close()"
   ]
  },
  {
   "cell_type": "code",
   "execution_count": 2,
   "id": "4be68eef-a360-44ec-a9b9-2a8f300391ae",
   "metadata": {},
   "outputs": [],
   "source": [
    "port = 12345"
   ]
  },
  {
   "cell_type": "code",
   "execution_count": 3,
   "id": "912edd8d-c5ce-4556-920c-668578e0349b",
   "metadata": {},
   "outputs": [
    {
     "name": "stdout",
     "output_type": "stream",
     "text": [
      "Sent data and shutdown the sending side of the connection.\n"
     ]
    }
   ],
   "source": [
    "s = start_client(port)"
   ]
  },
  {
   "cell_type": "code",
   "execution_count": null,
   "id": "974ab298-9e51-4661-b904-f33174115282",
   "metadata": {},
   "outputs": [],
   "source": []
  }
 ],
 "metadata": {
  "kernelspec": {
   "display_name": "Python 3 (ipykernel)",
   "language": "python",
   "name": "python3"
  },
  "language_info": {
   "codemirror_mode": {
    "name": "ipython",
    "version": 3
   },
   "file_extension": ".py",
   "mimetype": "text/x-python",
   "name": "python",
   "nbconvert_exporter": "python",
   "pygments_lexer": "ipython3",
   "version": "3.12.2"
  }
 },
 "nbformat": 4,
 "nbformat_minor": 5
}
