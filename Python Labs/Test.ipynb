{
 "cells": [
  {
   "cell_type": "code",
   "execution_count": null,
   "id": "d621d52c-959b-4c08-8b8f-6b4d52661962",
   "metadata": {},
   "outputs": [],
   "source": [
    "# review 2, 6, 16\n"
   ]
  },
  {
   "cell_type": "code",
   "execution_count": 36,
   "id": "d5f2d32a-e051-4ca6-9ce6-47d72ac9cd68",
   "metadata": {},
   "outputs": [
    {
     "ename": "ValueError",
     "evalue": "must have exactly one of create/read/write/append mode",
     "output_type": "error",
     "traceback": [
      "\u001b[1;31m---------------------------------------------------------------------------\u001b[0m",
      "\u001b[1;31mValueError\u001b[0m                                Traceback (most recent call last)",
      "Cell \u001b[1;32mIn[36], line 1\u001b[0m\n\u001b[1;32m----> 1\u001b[0m \u001b[38;5;28;01mwith\u001b[39;00m \u001b[38;5;28;43mopen\u001b[39;49m\u001b[43m(\u001b[49m\u001b[38;5;124;43m\"\u001b[39;49m\u001b[38;5;124;43m../History.txt\u001b[39;49m\u001b[38;5;124;43m\"\u001b[39;49m\u001b[43m,\u001b[49m\u001b[43m \u001b[49m\u001b[38;5;124;43m'\u001b[39;49m\u001b[38;5;124;43mrw\u001b[39;49m\u001b[38;5;124;43m'\u001b[39;49m\u001b[43m)\u001b[49m \u001b[38;5;28;01mas\u001b[39;00m file_in:\n\u001b[0;32m      2\u001b[0m     content \u001b[38;5;241m=\u001b[39m file_in\u001b[38;5;241m.\u001b[39mread()\n\u001b[0;32m      3\u001b[0m \u001b[38;5;28mprint\u001b[39m(content[\u001b[38;5;241m1337\u001b[39m])\n",
      "File \u001b[1;32m~\\AppData\\Local\\Programs\\Python\\Python312\\Lib\\site-packages\\IPython\\core\\interactiveshell.py:324\u001b[0m, in \u001b[0;36m_modified_open\u001b[1;34m(file, *args, **kwargs)\u001b[0m\n\u001b[0;32m    317\u001b[0m \u001b[38;5;28;01mif\u001b[39;00m file \u001b[38;5;129;01min\u001b[39;00m {\u001b[38;5;241m0\u001b[39m, \u001b[38;5;241m1\u001b[39m, \u001b[38;5;241m2\u001b[39m}:\n\u001b[0;32m    318\u001b[0m     \u001b[38;5;28;01mraise\u001b[39;00m \u001b[38;5;167;01mValueError\u001b[39;00m(\n\u001b[0;32m    319\u001b[0m         \u001b[38;5;124mf\u001b[39m\u001b[38;5;124m\"\u001b[39m\u001b[38;5;124mIPython won\u001b[39m\u001b[38;5;124m'\u001b[39m\u001b[38;5;124mt let you open fd=\u001b[39m\u001b[38;5;132;01m{\u001b[39;00mfile\u001b[38;5;132;01m}\u001b[39;00m\u001b[38;5;124m by default \u001b[39m\u001b[38;5;124m\"\u001b[39m\n\u001b[0;32m    320\u001b[0m         \u001b[38;5;124m\"\u001b[39m\u001b[38;5;124mas it is likely to crash IPython. If you know what you are doing, \u001b[39m\u001b[38;5;124m\"\u001b[39m\n\u001b[0;32m    321\u001b[0m         \u001b[38;5;124m\"\u001b[39m\u001b[38;5;124myou can use builtins\u001b[39m\u001b[38;5;124m'\u001b[39m\u001b[38;5;124m open.\u001b[39m\u001b[38;5;124m\"\u001b[39m\n\u001b[0;32m    322\u001b[0m     )\n\u001b[1;32m--> 324\u001b[0m \u001b[38;5;28;01mreturn\u001b[39;00m \u001b[43mio_open\u001b[49m\u001b[43m(\u001b[49m\u001b[43mfile\u001b[49m\u001b[43m,\u001b[49m\u001b[43m \u001b[49m\u001b[38;5;241;43m*\u001b[39;49m\u001b[43margs\u001b[49m\u001b[43m,\u001b[49m\u001b[43m \u001b[49m\u001b[38;5;241;43m*\u001b[39;49m\u001b[38;5;241;43m*\u001b[39;49m\u001b[43mkwargs\u001b[49m\u001b[43m)\u001b[49m\n",
      "\u001b[1;31mValueError\u001b[0m: must have exactly one of create/read/write/append mode"
     ]
    }
   ],
   "source": [
    "with open(\"../History.txt\", 'rw') as file_in:\n",
    "    content = file_in.read()\n",
    "print(content[1337])\n",
    "# >>> 2"
   ]
  },
  {
   "cell_type": "code",
   "execution_count": 38,
   "id": "fcff5839-83b6-4b80-86e0-67d8453ce88a",
   "metadata": {},
   "outputs": [
    {
     "name": "stdout",
     "output_type": "stream",
     "text": [
      "[782, 1564, 2346, 3128, 3910]\n"
     ]
    }
   ],
   "source": [
    "divisible_nums = []\n",
    "i = 1\n",
    "while len(divisible_nums) < 5:\n",
    "    if (i %17 == 0) and (i % 46 == 0):\n",
    "        divisible_nums.append(i)\n",
    "    i += 1\n",
    "print(divisible_nums)"
   ]
  },
  {
   "cell_type": "code",
   "execution_count": 59,
   "id": "b050fbce-ad4a-423b-ae2f-c2e3ec04d582",
   "metadata": {},
   "outputs": [
    {
     "data": {
      "text/plain": [
       "'This would have taken a long time to do by hand'"
      ]
     },
     "execution_count": 59,
     "metadata": {},
     "output_type": "execute_result"
    }
   ],
   "source": [
    "import string\n",
    "def rot7(input_string: str) -> str:\n",
    "    \"\"\"\n",
    "    string: The string to conduct an ROT13 on.\n",
    "\n",
    "    return: The result of an ROT13 on the input.\n",
    "    \"\"\"\n",
    "    letters = string.ascii_lowercase\n",
    "    rtnString = \"\"\n",
    "\n",
    "    for s in input_string:\n",
    "        try:\n",
    "            index = letters.index(s.lower())\n",
    "            offset = (index + 7) % 26\n",
    "            rtnString += letters[offset] if s.islower() else letters[offset].upper()\n",
    "        except:\n",
    "            rtnString += s\n",
    "\n",
    "    return rtnString\n",
    "\n",
    "rot7(\"Mabl phnew atox mtdxg t ehgz mbfx mh wh ur atgw\")"
   ]
  },
  {
   "cell_type": "code",
   "execution_count": 63,
   "id": "82cea9bb-860c-4655-97da-ff2c7d1f4664",
   "metadata": {},
   "outputs": [
    {
     "name": "stdout",
     "output_type": "stream",
     "text": [
      "Prime: 1 is 2\n",
      "Prime: 2 is 3\n",
      "Prime: 3 is 5\n",
      "Prime: 4 is 7\n",
      "Prime: 5 is 11\n",
      "Prime: 6 is 13\n",
      "Prime: 7 is 17\n",
      "Prime: 8 is 19\n",
      "Prime: 9 is 23\n",
      "Prime: 10 is 29\n",
      "Prime: 11 is 31\n",
      "Prime: 12 is 37\n",
      "Prime: 13 is 41\n",
      "Prime: 14 is 43\n",
      "Prime: 15 is 47\n",
      "Prime: 16 is 53\n",
      "Prime: 17 is 59\n",
      "Prime: 18 is 61\n",
      "Prime: 19 is 67\n",
      "Prime: 20 is 71\n",
      "Prime: 21 is 73\n",
      "Prime: 22 is 79\n",
      "Prime: 23 is 83\n",
      "Prime: 24 is 89\n",
      "Prime: 25 is 97\n",
      "Prime: 26 is 101\n",
      "Prime: 27 is 103\n",
      "Prime: 28 is 107\n",
      "Prime: 29 is 109\n",
      "Prime: 30 is 113\n",
      "Prime: 31 is 127\n",
      "Prime: 32 is 131\n",
      "Prime: 33 is 137\n",
      "Prime: 34 is 139\n",
      "Prime: 35 is 149\n",
      "Prime: 36 is 151\n",
      "Prime: 37 is 157\n",
      "Prime: 38 is 163\n",
      "Prime: 39 is 167\n",
      "Prime: 40 is 173\n",
      "Prime: 41 is 179\n",
      "Prime: 42 is 181\n",
      "Prime: 43 is 191\n",
      "Prime: 44 is 193\n",
      "Prime: 45 is 197\n",
      "Prime: 46 is 199\n",
      "Prime: 47 is 211\n",
      "Prime: 48 is 223\n",
      "Prime: 49 is 227\n",
      "Prime: 50 is 229\n",
      "Prime: 51 is 233\n",
      "Prime: 52 is 239\n",
      "Prime: 53 is 241\n",
      "Prime: 54 is 251\n",
      "Prime: 55 is 257\n",
      "Prime: 56 is 263\n",
      "Prime: 57 is 269\n",
      "Prime: 58 is 271\n",
      "Prime: 59 is 277\n",
      "Prime: 60 is 281\n",
      "Prime: 61 is 283\n",
      "Prime: 62 is 293\n",
      "Prime: 63 is 307\n",
      "Prime: 64 is 311\n",
      "Prime: 65 is 313\n",
      "Prime: 66 is 317\n",
      "Prime: 67 is 331\n",
      "Prime: 68 is 337\n",
      "Prime: 69 is 347\n",
      "Prime: 70 is 349\n",
      "Prime: 71 is 353\n",
      "Prime: 72 is 359\n",
      "Prime: 73 is 367\n",
      "Prime: 74 is 373\n",
      "Prime: 75 is 379\n",
      "Prime: 76 is 383\n",
      "Prime: 77 is 389\n",
      "Prime: 78 is 397\n",
      "Prime: 79 is 401\n",
      "Prime: 80 is 409\n",
      "Prime: 81 is 419\n",
      "Prime: 82 is 421\n",
      "Prime: 83 is 431\n",
      "Prime: 84 is 433\n",
      "Prime: 85 is 439\n",
      "Prime: 86 is 443\n",
      "Prime: 87 is 449\n",
      "Prime: 88 is 457\n",
      "Prime: 89 is 461\n",
      "Prime: 90 is 463\n",
      "Prime: 91 is 467\n",
      "Prime: 92 is 479\n",
      "Prime: 93 is 487\n",
      "Prime: 94 is 491\n",
      "Prime: 95 is 499\n",
      "Prime: 96 is 503\n",
      "Prime: 97 is 509\n",
      "Prime: 98 is 521\n",
      "Prime: 99 is 523\n",
      "Prime: 100 is 541\n"
     ]
    }
   ],
   "source": [
    "count = 0\n",
    "current = 2\n",
    "while count < 100:\n",
    "    is_prime = True\n",
    "    for i in range(2,current):\n",
    "        if (current%i == 0):\n",
    "            is_prime = False\n",
    "    if is_prime:\n",
    "        count += 1\n",
    "        print(f\"Prime: {count} is {current}\")\n",
    "    current += 1"
   ]
  },
  {
   "cell_type": "code",
   "execution_count": 67,
   "id": "a94cfe5d-a347-4c0e-adc9-6daebf605399",
   "metadata": {},
   "outputs": [
    {
     "name": "stdout",
     "output_type": "stream",
     "text": [
      "408d94384216f890ff7a0c3528e8bed1e0b01621\n"
     ]
    }
   ],
   "source": [
    "import hashlib\n",
    "str_to_hash = \"The quick brown fox jumps over the lazy dog.\"\n",
    "digest = hashlib.sha1(str_to_hash.encode()).hexdigest()\n",
    "print(digest)"
   ]
  },
  {
   "cell_type": "code",
   "execution_count": 68,
   "id": "8dc2d9ba-dd62-4c92-944b-7ccec27a5c9c",
   "metadata": {},
   "outputs": [
    {
     "name": "stdout",
     "output_type": "stream",
     "text": [
      "3\n"
     ]
    }
   ],
   "source": [
    "a = 3\n",
    "\n",
    "def func():\n",
    "    a = 9\n",
    "\n",
    "func()\n",
    "print(a)"
   ]
  },
  {
   "cell_type": "code",
   "execution_count": 72,
   "id": "7283de31-54ec-4024-91ea-c9b8d0efb4c3",
   "metadata": {},
   "outputs": [],
   "source": [
    "def foo(x=[]):\n",
    "\n",
    "    x.append('bar')\n",
    "\n",
    "    return x"
   ]
  },
  {
   "cell_type": "code",
   "execution_count": 73,
   "id": "f4cf8907-0d3c-4c3f-9c49-ebcac8f5a8cc",
   "metadata": {},
   "outputs": [
    {
     "data": {
      "text/plain": [
       "['bar']"
      ]
     },
     "execution_count": 73,
     "metadata": {},
     "output_type": "execute_result"
    }
   ],
   "source": [
    "foo()"
   ]
  },
  {
   "cell_type": "code",
   "execution_count": 74,
   "id": "c030ce20-1f26-48a0-8b84-2fbf37775766",
   "metadata": {},
   "outputs": [
    {
     "data": {
      "text/plain": [
       "['bar', 'bar']"
      ]
     },
     "execution_count": 74,
     "metadata": {},
     "output_type": "execute_result"
    }
   ],
   "source": [
    "foo()"
   ]
  },
  {
   "cell_type": "code",
   "execution_count": 76,
   "id": "fbbf349c-2828-4103-9806-5e2384ba0f45",
   "metadata": {},
   "outputs": [],
   "source": [
    "def to_replicate(x,y,z):\n",
    "    return (-3 * x -2 * y * 7 * x **2 + 42) % z"
   ]
  },
  {
   "cell_type": "code",
   "execution_count": 78,
   "id": "80df5742-c782-454d-bfb1-e619309f0ff3",
   "metadata": {},
   "outputs": [
    {
     "data": {
      "text/plain": [
       "1"
      ]
     },
     "execution_count": 78,
     "metadata": {},
     "output_type": "execute_result"
    }
   ],
   "source": [
    "to_replicate(-5, 7, 2)"
   ]
  },
  {
   "cell_type": "code",
   "execution_count": 81,
   "id": "fb94308c-1589-4102-98b1-ce8be984812f",
   "metadata": {},
   "outputs": [
    {
     "data": {
      "text/plain": [
       "1"
      ]
     },
     "execution_count": 81,
     "metadata": {},
     "output_type": "execute_result"
    }
   ],
   "source": [
    "(lambda x, y, z: (-3 * x -2 * y * 7 * x **2 + 42) % z)(-5,7,2)"
   ]
  },
  {
   "cell_type": "code",
   "execution_count": 84,
   "id": "ff336c41-59f9-478b-8f45-00ecc884214a",
   "metadata": {},
   "outputs": [
    {
     "data": {
      "text/plain": [
       "2624874413776"
      ]
     },
     "execution_count": 84,
     "metadata": {},
     "output_type": "execute_result"
    }
   ],
   "source": [
    "test = \"ada\"\n",
    "id(test)"
   ]
  },
  {
   "cell_type": "code",
   "execution_count": 86,
   "id": "d26e63a3-e2c3-44ae-8ff8-f9067ed9365c",
   "metadata": {},
   "outputs": [
    {
     "data": {
      "text/plain": [
       "2624935382160"
      ]
     },
     "execution_count": 86,
     "metadata": {},
     "output_type": "execute_result"
    }
   ],
   "source": [
    "id(test.replace(\"a\",\"p\"))"
   ]
  },
  {
   "cell_type": "code",
   "execution_count": 91,
   "id": "4426c926-642a-4a0c-9502-d40478d118ba",
   "metadata": {},
   "outputs": [],
   "source": [
    "import struct"
   ]
  },
  {
   "cell_type": "code",
   "execution_count": 97,
   "id": "41115327-d5c2-4caf-b07c-b9f1886ccc62",
   "metadata": {},
   "outputs": [],
   "source": [
    "x = bytearray()\n",
    "x += bytes(2)\n",
    "x += bytes(3)\n",
    "x += bytes(4)\n",
    "x += bytes(5)\n"
   ]
  },
  {
   "cell_type": "code",
   "execution_count": 100,
   "id": "4fee9062-95bd-4ddd-aade-946a95e89749",
   "metadata": {},
   "outputs": [
    {
     "data": {
      "text/plain": [
       "b'\\x00\\x01\\x00\\x02\\x00\\x03\\x00\\x04'"
      ]
     },
     "execution_count": 100,
     "metadata": {},
     "output_type": "execute_result"
    }
   ],
   "source": [
    "struct.pack(\">4h\",*[1,2,3,4])"
   ]
  },
  {
   "cell_type": "code",
   "execution_count": 101,
   "id": "ee82ad47-b1ae-4656-a1d9-ce2b9d17ca84",
   "metadata": {},
   "outputs": [
    {
     "data": {
      "text/plain": [
       "b'\\x00\\x01\\x00\\x02\\x00\\x03\\x00\\x04'"
      ]
     },
     "execution_count": 101,
     "metadata": {},
     "output_type": "execute_result"
    }
   ],
   "source": [
    "struct.pack(\">hhhh\",*[1,2,3,4])"
   ]
  },
  {
   "cell_type": "code",
   "execution_count": 103,
   "id": "f1fc7f8e-9c43-4a73-82e6-2291cfe725c7",
   "metadata": {},
   "outputs": [
    {
     "name": "stdout",
     "output_type": "stream",
     "text": [
      "That was bad\n"
     ]
    }
   ],
   "source": [
    "try:\n",
    "    1/0\n",
    "except:\n",
    "    pass\n",
    "finally:\n",
    "    print(\"That was bad\")"
   ]
  },
  {
   "cell_type": "code",
   "execution_count": null,
   "id": "fd13c900-9fd7-40d3-8765-833b2d6613a9",
   "metadata": {},
   "outputs": [],
   "source": []
  }
 ],
 "metadata": {
  "kernelspec": {
   "display_name": "Python 3 (ipykernel)",
   "language": "python",
   "name": "python3"
  },
  "language_info": {
   "codemirror_mode": {
    "name": "ipython",
    "version": 3
   },
   "file_extension": ".py",
   "mimetype": "text/x-python",
   "name": "python",
   "nbconvert_exporter": "python",
   "pygments_lexer": "ipython3",
   "version": "3.12.2"
  }
 },
 "nbformat": 4,
 "nbformat_minor": 5
}
