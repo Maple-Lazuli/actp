{
 "cells": [
  {
   "cell_type": "code",
   "execution_count": 68,
   "id": "3fe24728-2b2a-45dd-a412-3befd708e81c",
   "metadata": {},
   "outputs": [],
   "source": [
    "import ctypes\n",
    "dll = ctypes.WinDLL(\"./Lab9Dll.dll\")"
   ]
  },
  {
   "cell_type": "code",
   "execution_count": 71,
   "id": "5ea9c311-c980-4565-aa6d-8dbe52bf145b",
   "metadata": {},
   "outputs": [],
   "source": [
    "msgbox = dll.MyMessageBox"
   ]
  },
  {
   "cell_type": "code",
   "execution_count": 74,
   "id": "6b32153d-5a30-4c2c-a072-f9927aadb7a7",
   "metadata": {},
   "outputs": [],
   "source": [
    "msgbox.argtypes = [ctypes.c_char_p, ctypes.c_char_p]\n",
    "str1 = ctypes.c_char_p(b\"This Is A Test\\0\")"
   ]
  },
  {
   "cell_type": "code",
   "execution_count": 77,
   "id": "e0bae70c-9ab8-4c19-b398-9d50a89ae8c7",
   "metadata": {},
   "outputs": [],
   "source": [
    "str2 = ctypes.c_char_p(b\"This Is A Test Also\")"
   ]
  },
  {
   "cell_type": "code",
   "execution_count": 78,
   "id": "96460a84-3673-426b-8771-aa00390a0c25",
   "metadata": {},
   "outputs": [],
   "source": [
    "ret_val = msgbox(str1,str2)"
   ]
  },
  {
   "cell_type": "code",
   "execution_count": 82,
   "id": "3b448c3b-f556-4810-80ad-e1ece3d68767",
   "metadata": {},
   "outputs": [
    {
     "data": {
      "text/plain": [
       "{'_name': 'C:\\\\Users\\\\student\\\\Desktop\\\\Labs\\\\Lab9Dll.dll',\n",
       " '_FuncPtr': ctypes.CDLL.__init__.<locals>._FuncPtr,\n",
       " '_handle': 140709185847296,\n",
       " 'MyMessageBox': <_FuncPtr object at 0x000001FAB12B3D40>}"
      ]
     },
     "execution_count": 82,
     "metadata": {},
     "output_type": "execute_result"
    }
   ],
   "source": [
    "vars(dll)"
   ]
  },
  {
   "cell_type": "code",
   "execution_count": 88,
   "id": "a02f894d-d785-49c5-a3d6-b5feb88bada3",
   "metadata": {},
   "outputs": [
    {
     "data": {
      "text/plain": [
       "['__bool__',\n",
       " '__buffer__',\n",
       " '__call__',\n",
       " '__class__',\n",
       " '__ctypes_from_outparam__',\n",
       " '__delattr__',\n",
       " '__dict__',\n",
       " '__dir__',\n",
       " '__doc__',\n",
       " '__eq__',\n",
       " '__format__',\n",
       " '__ge__',\n",
       " '__getattribute__',\n",
       " '__getstate__',\n",
       " '__gt__',\n",
       " '__hash__',\n",
       " '__init__',\n",
       " '__init_subclass__',\n",
       " '__le__',\n",
       " '__lt__',\n",
       " '__module__',\n",
       " '__name__',\n",
       " '__ne__',\n",
       " '__new__',\n",
       " '__reduce__',\n",
       " '__reduce_ex__',\n",
       " '__repr__',\n",
       " '__setattr__',\n",
       " '__setstate__',\n",
       " '__sizeof__',\n",
       " '__str__',\n",
       " '__subclasshook__',\n",
       " '__weakref__',\n",
       " '_b_base_',\n",
       " '_b_needsfree_',\n",
       " '_flags_',\n",
       " '_objects',\n",
       " '_restype_',\n",
       " 'argtypes',\n",
       " 'errcheck',\n",
       " 'restype']"
      ]
     },
     "execution_count": 88,
     "metadata": {},
     "output_type": "execute_result"
    }
   ],
   "source": [
    "dir(dll.MyMessageBox)"
   ]
  },
  {
   "cell_type": "markdown",
   "id": "03e76bc9-f501-409d-92d3-4f40ed46a4d8",
   "metadata": {
    "jp-MarkdownHeadingCollapsed": true
   },
   "source": [
    "# Reference\n",
    "\n",
    "For working with the DLL, read page 219 for the handout."
   ]
  }
 ],
 "metadata": {
  "kernelspec": {
   "display_name": "Python 3 (ipykernel)",
   "language": "python",
   "name": "python3"
  },
  "language_info": {
   "codemirror_mode": {
    "name": "ipython",
    "version": 3
   },
   "file_extension": ".py",
   "mimetype": "text/x-python",
   "name": "python",
   "nbconvert_exporter": "python",
   "pygments_lexer": "ipython3",
   "version": "3.12.2"
  }
 },
 "nbformat": 4,
 "nbformat_minor": 5
}
