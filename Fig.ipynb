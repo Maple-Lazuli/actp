{
 "cells": [
  {
   "cell_type": "code",
   "execution_count": null,
   "id": "1246fd78-bf65-44ff-ae20-ffcb0062197e",
   "metadata": {},
   "outputs": [],
   "source": [
    "import pyfiglet\n",
    "response = pyfiglet.figlet_format(\"Notes for ACTP\", font = \"4max\")\n",
    "m = pyfiglet.Figlet()\n",
    "fonts = m.getFonts()\n",
    "out = \"\"\n",
    "for f in fonts:\n",
    "    out += f'\\nThis Font Below Is: {f}\\n'\n",
    "    response = pyfiglet.figlet_format(\"Notes for ACTP\", font = f)\n",
    "    out += response\n",
    "    out += '\\n'\n",
    "with open(\"fonts.txt\",'w') as file_out:\n",
    "    for o in out:\n",
    "        try:\n",
    "            file_out.write(o)\n",
    "        except:\n",
    "            pass"
   ]
  }
 ],
 "metadata": {
  "kernelspec": {
   "display_name": "Python 3 (ipykernel)",
   "language": "python",
   "name": "python3"
  },
  "language_info": {
   "codemirror_mode": {
    "name": "ipython",
    "version": 3
   },
   "file_extension": ".py",
   "mimetype": "text/x-python",
   "name": "python",
   "nbconvert_exporter": "python",
   "pygments_lexer": "ipython3",
   "version": "3.12.2"
  }
 },
 "nbformat": 4,
 "nbformat_minor": 5
}
