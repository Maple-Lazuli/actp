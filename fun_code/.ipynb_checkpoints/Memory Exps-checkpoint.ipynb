{
 "cells": [
  {
   "cell_type": "code",
   "execution_count": null,
   "id": "96c16d72-7989-4bde-a86e-3f3b32fbcde0",
   "metadata": {},
   "outputs": [],
   "source": [
    "def get_memory_info(process_id):\n",
    "    try:\n",
    "        # Get the process handle\n",
    "        process = psutil.Process(process_id)\n",
    "        \n",
    "        # Get memory info\n",
    "        memory_info = process.memory_info()\n",
    "        \n",
    "        # Output memory info\n",
    "        print(f\"RSS (Resident Set Size): {memory_info.rss}\")\n",
    "        print(f\"VMS (Virtual Memory Size): {memory_info.vms} \")\n",
    "        \n",
    "        return memory_info\n",
    "    except psutil.NoSuchProcess:\n",
    "        print(f\"Process with ID {process_id} does not exist.\")\n",
    "        return None\n",
    "    except psutil.AccessDenied:\n",
    "        print(f\"Access denied to process with ID {process_id}.\")\n",
    "        return None"
   ]
  },
  {
   "cell_type": "code",
   "execution_count": null,
   "id": "50c9203b-5612-4369-bff0-057da878ae70",
   "metadata": {},
   "outputs": [],
   "source": [
    "import ctypes\n",
    "from ctypes import wintypes\n",
    "\n",
    "# Define constants\n",
    "PROCESS_VM_READ = 0x0010\n",
    "\n",
    "# Load the Windows API library\n",
    "kernel32 = ctypes.WinDLL('kernel32')\n",
    "\n",
    "# Define function prototypes\n",
    "OpenProcess = kernel32.OpenProcess\n",
    "OpenProcess.argtypes = [wintypes.DWORD, wintypes.BOOL, wintypes.DWORD]\n",
    "OpenProcess.restype = wintypes.HANDLE\n",
    "\n",
    "ReadProcessMemory = kernel32.ReadProcessMemory\n",
    "ReadProcessMemory.argtypes = [wintypes.HANDLE, wintypes.LPCVOID, wintypes.LPVOID, ctypes.c_size_t, ctypes.POINTER(ctypes.c_size_t)]\n",
    "ReadProcessMemory.restype = wintypes.BOOL\n",
    "\n",
    "CloseHandle = kernel32.CloseHandle\n",
    "CloseHandle.argtypes = [wintypes.HANDLE]\n",
    "CloseHandle.restype = wintypes.BOOL\n",
    "\n",
    "def read_memory(process_id, base_address, size):\n",
    "    # Open the target process with PROCESS_VM_READ permission\n",
    "    process_handle = OpenProcess(PROCESS_VM_READ, False, process_id)\n",
    "    if not process_handle:\n",
    "        raise Exception(\"Could not open process\")\n",
    "\n",
    "    # Allocate a buffer to read into\n",
    "    buffer = ctypes.create_string_buffer(size)\n",
    "\n",
    "    # Read the memory\n",
    "    bytes_read = ctypes.c_size_t()\n",
    "    success = ReadProcessMemory(process_handle, base_address, buffer, size, ctypes.byref(bytes_read))\n",
    "    if not success:\n",
    "        CloseHandle(process_handle)\n",
    "        raise Exception(\"Could not read memory\")\n",
    "\n",
    "    # Close the handle to the process\n",
    "    CloseHandle(process_handle)\n",
    "\n",
    "    # Return the read data\n",
    "    return buffer.raw"
   ]
  },
  {
   "cell_type": "code",
   "execution_count": null,
   "id": "a4394e02-ade3-45f3-8e10-dbe0b70b0129",
   "metadata": {},
   "outputs": [],
   "source": [
    "target_process_id = 3252  # Example process ID\n",
    "target_address = 0x0000  # Example address\n",
    "data_size = 1  # Size of data to read\n",
    "\n",
    "try:\n",
    "    data = read_memory(target_process_id, target_address, data_size)\n",
    "    print(\"Read data:\", data)\n",
    "except Exception as e:\n",
    "    print(\"Error:\", e)"
   ]
  },
  {
   "cell_type": "code",
   "execution_count": null,
   "id": "36ceac09-c652-4ae3-846b-cbe63ed87674",
   "metadata": {},
   "outputs": [],
   "source": [
    "data = read_memory(target_process_id, target_address, data_size)"
   ]
  },
  {
   "cell_type": "code",
   "execution_count": null,
   "id": "c32cc4e5-668e-4db3-aadb-0037be6f9c95",
   "metadata": {},
   "outputs": [],
   "source": [
    "import psutil"
   ]
  },
  {
   "cell_type": "code",
   "execution_count": null,
   "id": "ab1ae084-4c4d-4641-b5f9-b5513b0a78ab",
   "metadata": {},
   "outputs": [],
   "source": [
    "target_process_id = 3252  # Replace with your target process ID\n",
    "get_memory_info(target_process_id)"
   ]
  },
  {
   "cell_type": "code",
   "execution_count": null,
   "id": "01ce683f-7419-479e-ae1e-bad0dd3d45c9",
   "metadata": {},
   "outputs": [],
   "source": [
    "memory_read = []\n",
    "address = 0\n",
    "while address < 2154496:\n",
    "    try:\n",
    "        data = read_memory(target_process_id, address, data_size)\n",
    "        memory_read.append(data)\n",
    "    except Exception as e:\n",
    "        pass\n",
    "    address += 1\n",
    "    "
   ]
  },
  {
   "cell_type": "code",
   "execution_count": null,
   "id": "0ef624cf-566d-4e26-970d-7ca5e402f7b6",
   "metadata": {},
   "outputs": [],
   "source": [
    "len(memory_read)"
   ]
  },
  {
   "cell_type": "code",
   "execution_count": null,
   "id": "2de6c9bf-4195-4be7-9f63-23b05744746c",
   "metadata": {},
   "outputs": [],
   "source": [
    "import ctypes\n",
    "from ctypes import wintypes\n",
    "\n",
    "class MEMORY_BASIC_INFORMATION(ctypes.Structure):\n",
    "    _fields_ = [\n",
    "        (\"BaseAddress\", wintypes.LPVOID),\n",
    "        (\"AllocationBase\", wintypes.LPVOID),\n",
    "        (\"AllocationProtect\", wintypes.DWORD),\n",
    "        (\"RegionSize\", ctypes.c_size_t),\n",
    "        (\"State\", wintypes.DWORD),\n",
    "        (\"Protect\", wintypes.DWORD),\n",
    "        (\"Type\", wintypes.DWORD)\n",
    "    ]\n",
    "\n",
    "# Define constants\n",
    "PROCESS_QUERY_INFORMATION = 0x0400\n",
    "PROCESS_VM_READ = 0x0010\n",
    "\n",
    "# Define function prototypes\n",
    "kernel32 = ctypes.WinDLL('kernel32')\n",
    "OpenProcess = kernel32.OpenProcess\n",
    "OpenProcess.argtypes = [wintypes.DWORD, wintypes.BOOL, wintypes.DWORD]\n",
    "OpenProcess.restype = wintypes.HANDLE\n",
    "\n",
    "VirtualQueryEx = kernel32.VirtualQueryEx\n",
    "VirtualQueryEx.argtypes = [wintypes.HANDLE, wintypes.LPCVOID, ctypes.POINTER(MEMORY_BASIC_INFORMATION), ctypes.c_size_t]\n",
    "VirtualQueryEx.restype = ctypes.c_size_t\n",
    "\n",
    "def enumerate_memory_regions(process_id):\n",
    "    process_handle = OpenProcess(PROCESS_QUERY_INFORMATION | PROCESS_VM_READ, False, process_id)\n",
    "    if not process_handle:\n",
    "        raise Exception(\"Could not open process\")\n",
    "\n",
    "    address = 0\n",
    "    while True:\n",
    "        mbi = MEMORY_BASIC_INFORMATION()\n",
    "        result = VirtualQueryEx(process_handle, address, ctypes.byref(mbi), ctypes.sizeof(mbi))\n",
    "        if result == 0:\n",
    "            break\n",
    "        print(f\"Base Address: {mbi.BaseAddress}, Region Size: {mbi.RegionSize}, State: {mbi.State}, Protect: {mbi.Protect}, Type: {mbi.Type}\")\n",
    "        address = ctypes.c_void_p(ctypes.addressof(mbi) + mbi.RegionSize).value\n",
    "\n",
    "    CloseHandle(process_handle)\n"
   ]
  },
  {
   "cell_type": "code",
   "execution_count": null,
   "id": "57648885-7796-4b0e-b3e5-7d2cdf6bdb79",
   "metadata": {},
   "outputs": [],
   "source": [
    "def read_memory_in_chunks(process_id, start_address, chunk_size, total_size):\n",
    "    buffer = bytearray(total_size)\n",
    "    bytes_read = 0\n",
    "\n",
    "    while bytes_read < total_size:\n",
    "        chunk = min(chunk_size, total_size - bytes_read)\n",
    "        temp_buffer = ctypes.create_string_buffer(chunk)\n",
    "        success = ReadProcessMemory(process_handle, start_address + bytes_read, temp_buffer, chunk, ctypes.byref(ctypes.c_size_t()))\n",
    "        if not success:\n",
    "            raise Exception(\"Could not read memory at address: 0x{:X}\".format(start_address + bytes_read))\n",
    "        buffer[bytes_read:bytes_read + chunk] = temp_buffer.raw\n",
    "        bytes_read += chunk\n",
    "\n",
    "    return buffer"
   ]
  },
  {
   "cell_type": "code",
   "execution_count": null,
   "id": "68f0b19c-08f4-4313-a261-5ddf55f46c98",
   "metadata": {},
   "outputs": [],
   "source": [
    "enumerate_memory_regions(3252)"
   ]
  },
  {
   "cell_type": "code",
   "execution_count": null,
   "id": "b353b7a2-17c5-4f55-a745-7548a97149a5",
   "metadata": {},
   "outputs": [],
   "source": []
  }
 ],
 "metadata": {
  "kernelspec": {
   "display_name": "Python 3 (ipykernel)",
   "language": "python",
   "name": "python3"
  },
  "language_info": {
   "codemirror_mode": {
    "name": "ipython",
    "version": 3
   },
   "file_extension": ".py",
   "mimetype": "text/x-python",
   "name": "python",
   "nbconvert_exporter": "python",
   "pygments_lexer": "ipython3",
   "version": "3.12.2"
  }
 },
 "nbformat": 4,
 "nbformat_minor": 5
}
