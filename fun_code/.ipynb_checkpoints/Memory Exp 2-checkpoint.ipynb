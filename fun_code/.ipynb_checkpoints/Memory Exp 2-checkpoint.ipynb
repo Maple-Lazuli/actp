{
 "cells": [
  {
   "cell_type": "code",
   "execution_count": null,
   "id": "66924e36-594f-4dfb-883c-e8510683a970",
   "metadata": {},
   "outputs": [],
   "source": [
    "import time"
   ]
  },
  {
   "cell_type": "code",
   "execution_count": null,
   "id": "4f9a1598-1fa3-4530-ba7f-179e55a5c429",
   "metadata": {},
   "outputs": [],
   "source": [
    "import matplotlib.pyplot as plt"
   ]
  },
  {
   "cell_type": "code",
   "execution_count": null,
   "id": "45b741c5-e84f-4eb9-9e48-b2740b257a80",
   "metadata": {},
   "outputs": [],
   "source": [
    "import numpy as np"
   ]
  },
  {
   "cell_type": "code",
   "execution_count": null,
   "id": "317c6ecc-62f7-456f-a2ce-60ae37976f33",
   "metadata": {},
   "outputs": [],
   "source": [
    "from funcs import get_memory_bytes as mem"
   ]
  },
  {
   "cell_type": "code",
   "execution_count": null,
   "id": "8666a026-6f72-44f5-86fb-97945d338cf1",
   "metadata": {
    "jupyter": {
     "source_hidden": true
    }
   },
   "outputs": [],
   "source": [
    "def get_raster(process_id, seconds, imsize):\n",
    "    first = np.array(mem(target_process_id))\n",
    "    time.sleep(seconds)\n",
    "    second = np.array(mem(target_process_id))\n",
    "    first.resize(max(first.shape[0], second.shape[0]))\n",
    "    second.resize(max(first.shape[0], second.shape[0]))\n",
    "    dif = first - second\n",
    "    width = int(np.sqrt(dif.shape[0]))  + 1\n",
    "    dif.resize(width * width) \n",
    "    dif = dif.reshape(width, width)\n",
    "    plt.clf()\n",
    "    plt.figure(figsize=(imsize,imsize))\n",
    "    plt.imshow(dif)\n",
    "    plt.axis('off')\n",
    "    plt.show()"
   ]
  },
  {
   "cell_type": "code",
   "execution_count": null,
   "id": "5a86c8b4-992b-4e51-9cce-4a65fe6981bc",
   "metadata": {},
   "outputs": [],
   "source": [
    "target_process_id = 11540 "
   ]
  },
  {
   "cell_type": "code",
   "execution_count": null,
   "id": "a271c502-b4b3-4504-b6cf-030e6535248b",
   "metadata": {
    "scrolled": true
   },
   "outputs": [],
   "source": [
    "for _ in range(1, 20):\n",
    "    get_raster(target_process_id, seconds = 3, imsize=10)"
   ]
  },
  {
   "cell_type": "code",
   "execution_count": null,
   "id": "53f368fe-df3b-48bd-879e-c4cdd5f31456",
   "metadata": {},
   "outputs": [],
   "source": []
  }
 ],
 "metadata": {
  "kernelspec": {
   "display_name": "Python 3 (ipykernel)",
   "language": "python",
   "name": "python3"
  },
  "language_info": {
   "codemirror_mode": {
    "name": "ipython",
    "version": 3
   },
   "file_extension": ".py",
   "mimetype": "text/x-python",
   "name": "python",
   "nbconvert_exporter": "python",
   "pygments_lexer": "ipython3",
   "version": "3.12.2"
  }
 },
 "nbformat": 4,
 "nbformat_minor": 5
}
